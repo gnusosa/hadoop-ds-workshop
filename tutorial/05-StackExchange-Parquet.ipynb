{
 "cells": [
  {
   "cell_type": "markdown",
   "metadata": {},
   "source": [
    "# Working with the StackExchange data\n",
    "During the workshop we will be working with a part of the data dump from the StackExchange network.\n",
    "\n",
    "An (almost) complete description of the data can be found [online here](https://ia801500.us.archive.org/8/items/stackexchange/readme.txt).\n",
    "\n",
    "# Parquet files, not XML\n",
    "The data is a direct dump from a relation database, written as XML files. However, XML parsing is tedious and slow, so we have already converted the XML files into the much more useful Parquet format. Parquet files are ar common format on Hadoop and allow for the same type of hierarchical data as XML or JSON, but store the data in binary in a columnar fashion, which is optimized for parallelized access and compression.\n",
    "\n",
    "Working with Parquet files in Spark is relatively straightforward. Some examples follow.\n",
    "\n",
    "## Spark SQL\n",
    "Reading Parquet files is part of the Spark SQL interface. Without going into much detail, we'll just for now suffise with the fact that you need a `SQLContext`, which can be imported and subsequently created from the SparkContext."
   ]
  },
  {
   "cell_type": "code",
   "execution_count": 1,
   "metadata": {
    "collapsed": true
   },
   "outputs": [],
   "source": [
    "from pyspark.sql import SQLContext"
   ]
  },
  {
   "cell_type": "code",
   "execution_count": 2,
   "metadata": {
    "collapsed": true
   },
   "outputs": [],
   "source": [
    "sql = SQLContext(sc)"
   ]
  },
  {
   "cell_type": "markdown",
   "metadata": {},
   "source": [
    "## Opening Parquet files\n",
    "Parquet files (like most 'files' on Hadoop), actually consist of multiple parts in a directory. Due to a bug in Spark, it is currently not possible to pass a glob expression (e.g. `/some_dir/*.parquet`) to the API, hence we need to specify all of the different parts individually. Here's a snippet that lists the files."
   ]
  },
  {
   "cell_type": "code",
   "execution_count": 11,
   "metadata": {
    "collapsed": false
   },
   "outputs": [],
   "source": [
    "num_parts = 2\n",
    "basename = '/stackexchange/travel.stackexchange.com/posts'\n",
    "files = ['%s/part-r-%05d.parquet' % (basename, part) for part in range(1, num_parts + 1)]"
   ]
  },
  {
   "cell_type": "markdown",
   "metadata": {},
   "source": [
    "# Spark data frames\n",
    "Spark has a data frame feature, quite similar to the Pandas data frames, but then distributed across the cluster. We won't go into much detail now, but it's worth looking into this later. The Spark SQL context however, will create a data frame from the Parquet files and not directly and RDD."
   ]
  },
  {
   "cell_type": "code",
   "execution_count": 13,
   "metadata": {
    "collapsed": true
   },
   "outputs": [],
   "source": [
    "spark_dataframe = sql.parquetFile(*files)"
   ]
  },
  {
   "cell_type": "markdown",
   "metadata": {},
   "source": [
    "## Going RDD\n",
    "Next, we can obtain an RDD from the data frame by property access to the underlying RDD (note that this is not a method, there's no parenthese after `rdd`)."
   ]
  },
  {
   "cell_type": "code",
   "execution_count": 14,
   "metadata": {
    "collapsed": true
   },
   "outputs": [],
   "source": [
    "rdd = spark_dataframe.rdd"
   ]
  },
  {
   "cell_type": "markdown",
   "metadata": {},
   "source": [
    "## Rows and columns\n",
    "An RDD obtained from a data frame, will consist of Row objects. These are containers for the records in the Parquet files. Let's take one row and have a look what we can do with it."
   ]
  },
  {
   "cell_type": "code",
   "execution_count": 5,
   "metadata": {
    "collapsed": true
   },
   "outputs": [],
   "source": [
    "single_row, = rdd.take(1)"
   ]
  },
  {
   "cell_type": "code",
   "execution_count": 6,
   "metadata": {
    "collapsed": false
   },
   "outputs": [
    {
     "data": {
      "text/plain": [
       "Row(id=1, postType=1, parent=None, acceptedAnswer=393, created=datetime.datetime(2011, 6, 21, 22, 19, 34, 730000), score=8, viewCount=323, body=u\"<p>My fianc\\xe9e and I are looking for a good Caribbean cruise in October and were wondering which islands are best to see and which Cruise line to take?</p>\\n\\n<p>It seems like a lot of the cruises don't run in this month due to Hurricane season so I'm looking for other good options.</p>\\n\\n<p><strong>EDIT</strong> We'll be travelling in 2012.</p>\\n\", owner=9, lastEditor=101, lastEditorName=None, lastEdited=datetime.datetime(2011, 12, 28, 22, 36, 43, 910000), lastActivity=datetime.datetime(2012, 5, 24, 16, 52, 14, 760000), communityOwned=None, closed=datetime.datetime(2013, 2, 26, 0, 52, 47, 953000), title=u'What are some Caribbean cruises for October?', tags=u'<caribbean><cruising><vacation>', answerCount=4, commentCount=4, favoriteCount=1)"
      ]
     },
     "execution_count": 6,
     "metadata": {},
     "output_type": "execute_result"
    }
   ],
   "source": [
    "single_row"
   ]
  },
  {
   "cell_type": "code",
   "execution_count": 8,
   "metadata": {
    "collapsed": false
   },
   "outputs": [
    {
     "data": {
      "text/plain": [
       "4"
      ]
     },
     "execution_count": 8,
     "metadata": {},
     "output_type": "execute_result"
    }
   ],
   "source": [
    "# Rows have property access to the individual columns by name\n",
    "single_row.answerCount"
   ]
  },
  {
   "cell_type": "code",
   "execution_count": 15,
   "metadata": {
    "collapsed": false
   },
   "outputs": [
    {
     "data": {
      "text/plain": [
       "4"
      ]
     },
     "execution_count": 15,
     "metadata": {},
     "output_type": "execute_result"
    }
   ],
   "source": [
    "# It's possible to convert a Row in to a Python dict by calling asDict() on it.\n",
    "single_row.asDict()['answerCount']"
   ]
  },
  {
   "cell_type": "markdown",
   "metadata": {},
   "source": [
    "## Let's put it to the test\n",
    "Let's combine the data, Pandas and a little plotting to quickly figure some things out."
   ]
  },
  {
   "cell_type": "code",
   "execution_count": 17,
   "metadata": {
    "collapsed": false
   },
   "outputs": [
    {
     "name": "stdout",
     "output_type": "stream",
     "text": [
      "Populating the interactive namespace from numpy and matplotlib\n"
     ]
    }
   ],
   "source": [
    "# Basic imports and plotting setup\n",
    "import pandas as pd\n",
    "\n",
    "%pylab inline"
   ]
  },
  {
   "cell_type": "markdown",
   "metadata": {},
   "source": [
    "## How many questions and how many answers are there?"
   ]
  },
  {
   "cell_type": "code",
   "execution_count": 18,
   "metadata": {
    "collapsed": false
   },
   "outputs": [],
   "source": [
    "# Histogram the different post types, there should be type 1 and 2 for question and answer resepctively\n",
    "hist_data = (\n",
    "    rdd\n",
    "    .map(lambda r: (r.postType, 1))\n",
    "    .reduceByKey(lambda x,y: x+y)\n",
    "    .collect()\n",
    ")"
   ]
  },
  {
   "cell_type": "code",
   "execution_count": 20,
   "metadata": {
    "collapsed": false
   },
   "outputs": [
    {
     "data": {
      "text/plain": [
       "<matplotlib.axes._subplots.AxesSubplot at 0x41f7c10>"
      ]
     },
     "execution_count": 20,
     "metadata": {},
     "output_type": "execute_result"
    },
    {
     "data": {
      "image/png": "[encoded data removed]",
      "text/plain": [
       "<matplotlib.figure.Figure at 0x41fe390>"
      ]
     },
     "metadata": {},
     "output_type": "display_data"
    }
   ],
   "source": [
    "# However, in real life, data is never what you think it is\n",
    "pandas_frame = pd.DataFrame(hist_data, columns=['type', 'count'])\n",
    "pandas_frame.plot(kind='bar', x='type', y='count')"
   ]
  },
  {
   "cell_type": "markdown",
   "metadata": {},
   "source": [
    "## What is the distribution of the number of comments per post?"
   ]
  },
  {
   "cell_type": "code",
   "execution_count": 24,
   "metadata": {
    "collapsed": false
   },
   "outputs": [
    {
     "data": {
      "text/plain": [
       "<matplotlib.axes._subplots.AxesSubplot at 0x50c4750>"
      ]
     },
     "execution_count": 24,
     "metadata": {},
     "output_type": "execute_result"
    },
    {
     "data": {
      "image/png": "[encoded data removed]",
      "text/plain": [
       "<matplotlib.figure.Figure at 0x50c0d10>"
      ]
     },
     "metadata": {},
     "output_type": "display_data"
    }
   ],
   "source": [
    "comment_counts = (\n",
    "    rdd\n",
    "    .map(lambda r: r.commentCount)\n",
    "    .sample(False, 0.01, 0)\n",
    "    .collect()\n",
    ")\n",
    "\n",
    "comment_counts_frame = pd.DataFrame(comment_counts, columns=['comment_count'])\n",
    "comment_counts_frame.comment_count.plot(kind='kde')"
   ]
  },
  {
   "cell_type": "code",
   "execution_count": 22,
   "metadata": {
    "collapsed": false
   },
   "outputs": [
    {
     "data": {
      "text/plain": [
       "<matplotlib.axes._subplots.AxesSubplot at 0x421cd50>"
      ]
     },
     "execution_count": 22,
     "metadata": {},
     "output_type": "execute_result"
    },
    {
     "data": {
      "image/png": "[encoded data removed]",
      "text/plain": [
       "<matplotlib.figure.Figure at 0x43b0150>"
      ]
     },
     "metadata": {},
     "output_type": "display_data"
    }
   ],
   "source": [
    "comment_counts_frame.answer_count.hist()"
   ]
  }
 ],
 "metadata": {
  "kernelspec": {
   "display_name": "Python 2",
   "language": "python",
   "name": "python2"
  },
  "language_info": {
   "codemirror_mode": {
    "name": "ipython",
    "version": 2
   },
   "file_extension": ".py",
   "mimetype": "text/x-python",
   "name": "python",
   "nbconvert_exporter": "python",
   "pygments_lexer": "ipython2",
   "version": "2.7.9"
  }
 },
 "nbformat": 4,
 "nbformat_minor": 0
}
