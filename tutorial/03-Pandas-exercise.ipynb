{
 "cells": [
  {
   "cell_type": "markdown",
   "metadata": {},
   "source": [
    "# Pandas exercise\n",
    "In this exercise, we will work with Pandas DataFrame objects. Some relevant documentation can be found here:\n",
    "- [Intro to Pandas DataFrame](http://pandas.pydata.org/pandas-docs/dev/dsintro.html#dataframe)\n",
    "- [Pandas DataFrame API](http://pandas.pydata.org/pandas-docs/dev/generated/pandas.DataFrame.html)\n",
    "- [Pandas DataFrame plot() method](http://pandas.pydata.org/pandas-docs/dev/generated/pandas.DataFrame.plot.html)\n",
    "- [Pandas plotting documentation](http://pandas.pydata.org/pandas-docs/dev/visualization.html)\n",
    "- [Complete Pandas API reference](http://pandas.pydata.org/pandas-docs/dev/api.html)\n",
    "\n",
    "As data, we will work with randomly generated data. For this, we use the Numpy package (Numerical Python). We'll create four series of random numbers: X, Y, P and U. They are assigned right below."
   ]
  },
  {
   "cell_type": "code",
   "execution_count": null,
   "metadata": {
    "collapsed": false
   },
   "outputs": [],
   "source": [
    "import pandas as pd\n",
    "import numpy as np\n",
    "\n",
    "X = np.random.normal(100, 15, 400)\n",
    "Y = 1.8 * X + np.random.normal(0, 9.0, 400)\n",
    "P = 10 ** X + np.random.normal(0, 1000.0, 400)\n",
    "U = np.random.uniform(10000, 100000, 400)"
   ]
  },
  {
   "cell_type": "markdown",
   "metadata": {},
   "source": [
    "## 1. Create a pandas DataFrame with the series X, Y, P and U as columns\n",
    "Create a DataFrame object from the series created above with matching column names and show the first 20 rows in the frame."
   ]
  },
  {
   "cell_type": "code",
   "execution_count": null,
   "metadata": {
    "collapsed": false
   },
   "outputs": [],
   "source": []
  },
  {
   "cell_type": "markdown",
   "metadata": {},
   "source": [
    "## 2. Make a plot that shows the relation between X and Y\n",
    "Usually, the first step to showing a relation between two variables is creating a scatter plot. See the plot documentation on how to create this kind of plot from a DataFrame."
   ]
  },
  {
   "cell_type": "code",
   "execution_count": null,
   "metadata": {
    "collapsed": false
   },
   "outputs": [],
   "source": [
    "%pylab inline"
   ]
  },
  {
   "cell_type": "markdown",
   "metadata": {},
   "source": [
    "## 3. Make a plot that shows the relation between X and P"
   ]
  },
  {
   "cell_type": "code",
   "execution_count": null,
   "metadata": {
    "collapsed": false
   },
   "outputs": [],
   "source": []
  },
  {
   "cell_type": "markdown",
   "metadata": {},
   "source": [
    "## 4. Make a plot that shows the distributions of X and U"
   ]
  },
  {
   "cell_type": "code",
   "execution_count": null,
   "metadata": {
    "collapsed": false
   },
   "outputs": [],
   "source": []
  },
  {
   "cell_type": "markdown",
   "metadata": {},
   "source": [
    "## 5. Create a new column from Y divided by X\n",
    "This new column will allow us to figure out the magnitude of the lineair relation between X and Y that we have seen in the scatter plot of the two variables. For the new column, calculate the mean, variance and standard deviation, so we can learn about the distribution of the noise in the lineair relation. Also, it may make sense to plot the distribution of the difference to further visualize the noise."
   ]
  },
  {
   "cell_type": "code",
   "execution_count": null,
   "metadata": {
    "collapsed": false
   },
   "outputs": [],
   "source": []
  }
 ],
 "metadata": {
  "kernelspec": {
   "display_name": "Python 2",
   "language": "python",
   "name": "python2"
  },
  "language_info": {
   "codemirror_mode": {
    "name": "ipython",
    "version": 2
   },
   "file_extension": ".py",
   "mimetype": "text/x-python",
   "name": "python",
   "nbconvert_exporter": "python",
   "pygments_lexer": "ipython2",
   "version": "2.7.9"
  }
 },
 "nbformat": 4,
 "nbformat_minor": 0
}
