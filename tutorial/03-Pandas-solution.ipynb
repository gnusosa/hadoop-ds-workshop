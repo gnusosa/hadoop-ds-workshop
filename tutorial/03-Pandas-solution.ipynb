{
 "cells": [
  {
   "cell_type": "markdown",
   "metadata": {},
   "source": [
    "# Pandas exercise\n",
    "In this exercise, we will work with Pandas DataFrame objects. Some relevant documentation can be found here:\n",
    "- [Intro to Pandas DataFrame](http://pandas.pydata.org/pandas-docs/dev/dsintro.html#dataframe)\n",
    "- [Pandas DataFrame API](http://pandas.pydata.org/pandas-docs/dev/generated/pandas.DataFrame.html)\n",
    "- [Pandas DataFrame plot() method](http://pandas.pydata.org/pandas-docs/dev/generated/pandas.DataFrame.plot.html)\n",
    "- [Pandas plotting documentation](http://pandas.pydata.org/pandas-docs/dev/visualization.html)\n",
    "- [Complete Pandas API reference](http://pandas.pydata.org/pandas-docs/dev/api.html)\n",
    "\n",
    "We consider randomly generated data. For this, we use the numpy package (Numerical Python). Let's create four series of random numbers: X, Y, P and U."
   ]
  },
  {
   "cell_type": "code",
   "execution_count": 94,
   "metadata": {
    "collapsed": false
   },
   "outputs": [],
   "source": [
    "import pandas as pd\n",
    "import numpy as np\n",
    "\n",
    "X = np.random.normal(100, 15, 400)\n",
    "Y = 1.8 * X + np.random.normal(0, 9.0, 400)\n",
    "P = 10 ** X + np.random.normal(0, 1000.0, 400)\n",
    "U = np.random.uniform(10000, 100000, 400)"
   ]
  },
  {
   "cell_type": "markdown",
   "metadata": {},
   "source": [
    "## 1. Create a pandas DataFrame with the series X, Y, P and U as columns\n",
    "Create a DataFrame object from the series created above with matching column names and show the first 20 rows in the frame."
   ]
  },
  {
   "cell_type": "code",
   "execution_count": 95,
   "metadata": {
    "collapsed": false
   },
   "outputs": [
    {
     "data": {
      "text/html": [
       "<div style=\"max-height:1000px;max-width:1500px;overflow:auto;\">\n",
       "<table border=\"1\" class=\"dataframe\">\n",
       "  <thead>\n",
       "    <tr style=\"text-align: right;\">\n",
       "      <th></th>\n",
       "      <th>P</th>\n",
       "      <th>U</th>\n",
       "      <th>X</th>\n",
       "      <th>Y</th>\n",
       "    </tr>\n",
       "  </thead>\n",
       "  <tbody>\n",
       "    <tr>\n",
       "      <th>0 </th>\n",
       "      <td>  3.445249e+98</td>\n",
       "      <td> 43043.607772</td>\n",
       "      <td>  98.537221</td>\n",
       "      <td> 180.473685</td>\n",
       "    </tr>\n",
       "    <tr>\n",
       "      <th>1 </th>\n",
       "      <td> 4.119449e+127</td>\n",
       "      <td> 22516.735477</td>\n",
       "      <td> 127.614839</td>\n",
       "      <td> 232.699785</td>\n",
       "    </tr>\n",
       "    <tr>\n",
       "      <th>2 </th>\n",
       "      <td>  1.869789e+84</td>\n",
       "      <td> 92859.466864</td>\n",
       "      <td>  84.271793</td>\n",
       "      <td> 147.884130</td>\n",
       "    </tr>\n",
       "    <tr>\n",
       "      <th>3 </th>\n",
       "      <td>  7.224335e+94</td>\n",
       "      <td> 97567.763895</td>\n",
       "      <td>  94.858798</td>\n",
       "      <td> 167.384347</td>\n",
       "    </tr>\n",
       "    <tr>\n",
       "      <th>4 </th>\n",
       "      <td>  3.504534e+96</td>\n",
       "      <td> 97897.695415</td>\n",
       "      <td>  96.544630</td>\n",
       "      <td> 162.016948</td>\n",
       "    </tr>\n",
       "    <tr>\n",
       "      <th>5 </th>\n",
       "      <td> 8.114116e+145</td>\n",
       "      <td> 48362.206820</td>\n",
       "      <td> 145.909241</td>\n",
       "      <td> 265.935068</td>\n",
       "    </tr>\n",
       "    <tr>\n",
       "      <th>6 </th>\n",
       "      <td>  8.755914e+89</td>\n",
       "      <td> 45083.021029</td>\n",
       "      <td>  89.942301</td>\n",
       "      <td> 150.574777</td>\n",
       "    </tr>\n",
       "    <tr>\n",
       "      <th>7 </th>\n",
       "      <td> 1.774623e+101</td>\n",
       "      <td> 94167.161520</td>\n",
       "      <td> 101.249106</td>\n",
       "      <td> 184.805662</td>\n",
       "    </tr>\n",
       "    <tr>\n",
       "      <th>8 </th>\n",
       "      <td>  1.882810e+90</td>\n",
       "      <td> 56487.624787</td>\n",
       "      <td>  90.274807</td>\n",
       "      <td> 165.801779</td>\n",
       "    </tr>\n",
       "    <tr>\n",
       "      <th>9 </th>\n",
       "      <td>  1.348960e+98</td>\n",
       "      <td> 95219.601746</td>\n",
       "      <td>  98.129999</td>\n",
       "      <td> 167.901758</td>\n",
       "    </tr>\n",
       "    <tr>\n",
       "      <th>10</th>\n",
       "      <td>  5.674213e+85</td>\n",
       "      <td> 62585.581107</td>\n",
       "      <td>  85.753906</td>\n",
       "      <td> 139.467483</td>\n",
       "    </tr>\n",
       "    <tr>\n",
       "      <th>11</th>\n",
       "      <td> 1.380806e+111</td>\n",
       "      <td> 37417.951904</td>\n",
       "      <td> 111.140133</td>\n",
       "      <td> 201.655061</td>\n",
       "    </tr>\n",
       "    <tr>\n",
       "      <th>12</th>\n",
       "      <td>  2.654790e+91</td>\n",
       "      <td> 50066.030200</td>\n",
       "      <td>  91.424030</td>\n",
       "      <td> 171.714043</td>\n",
       "    </tr>\n",
       "    <tr>\n",
       "      <th>13</th>\n",
       "      <td>  6.438342e+80</td>\n",
       "      <td> 10649.260075</td>\n",
       "      <td>  80.808774</td>\n",
       "      <td> 149.201852</td>\n",
       "    </tr>\n",
       "    <tr>\n",
       "      <th>14</th>\n",
       "      <td> 3.198071e+124</td>\n",
       "      <td> 90604.456963</td>\n",
       "      <td> 124.504888</td>\n",
       "      <td> 239.226673</td>\n",
       "    </tr>\n",
       "    <tr>\n",
       "      <th>15</th>\n",
       "      <td> 3.525289e+105</td>\n",
       "      <td> 56188.178017</td>\n",
       "      <td> 105.547195</td>\n",
       "      <td> 186.200344</td>\n",
       "    </tr>\n",
       "    <tr>\n",
       "      <th>16</th>\n",
       "      <td> 1.141387e+122</td>\n",
       "      <td> 25944.773234</td>\n",
       "      <td> 122.057433</td>\n",
       "      <td> 222.910871</td>\n",
       "    </tr>\n",
       "    <tr>\n",
       "      <th>17</th>\n",
       "      <td>  9.791264e+50</td>\n",
       "      <td> 16224.504933</td>\n",
       "      <td>  50.990839</td>\n",
       "      <td>  87.548413</td>\n",
       "    </tr>\n",
       "    <tr>\n",
       "      <th>18</th>\n",
       "      <td> 2.289883e+109</td>\n",
       "      <td> 17062.016668</td>\n",
       "      <td> 109.359813</td>\n",
       "      <td> 194.125618</td>\n",
       "    </tr>\n",
       "    <tr>\n",
       "      <th>19</th>\n",
       "      <td>  1.689319e+82</td>\n",
       "      <td> 70919.201638</td>\n",
       "      <td>  82.227712</td>\n",
       "      <td> 150.614937</td>\n",
       "    </tr>\n",
       "  </tbody>\n",
       "</table>\n",
       "</div>"
      ],
      "text/plain": [
       "                P             U           X           Y\n",
       "0    3.445249e+98  43043.607772   98.537221  180.473685\n",
       "1   4.119449e+127  22516.735477  127.614839  232.699785\n",
       "2    1.869789e+84  92859.466864   84.271793  147.884130\n",
       "3    7.224335e+94  97567.763895   94.858798  167.384347\n",
       "4    3.504534e+96  97897.695415   96.544630  162.016948\n",
       "5   8.114116e+145  48362.206820  145.909241  265.935068\n",
       "6    8.755914e+89  45083.021029   89.942301  150.574777\n",
       "7   1.774623e+101  94167.161520  101.249106  184.805662\n",
       "8    1.882810e+90  56487.624787   90.274807  165.801779\n",
       "9    1.348960e+98  95219.601746   98.129999  167.901758\n",
       "10   5.674213e+85  62585.581107   85.753906  139.467483\n",
       "11  1.380806e+111  37417.951904  111.140133  201.655061\n",
       "12   2.654790e+91  50066.030200   91.424030  171.714043\n",
       "13   6.438342e+80  10649.260075   80.808774  149.201852\n",
       "14  3.198071e+124  90604.456963  124.504888  239.226673\n",
       "15  3.525289e+105  56188.178017  105.547195  186.200344\n",
       "16  1.141387e+122  25944.773234  122.057433  222.910871\n",
       "17   9.791264e+50  16224.504933   50.990839   87.548413\n",
       "18  2.289883e+109  17062.016668  109.359813  194.125618\n",
       "19   1.689319e+82  70919.201638   82.227712  150.614937"
      ]
     },
     "execution_count": 95,
     "metadata": {},
     "output_type": "execute_result"
    }
   ],
   "source": [
    "data_frame = pd.DataFrame({ 'X': X, 'Y': Y, 'P': P, 'U': U})\n",
    "data_frame.head(20)"
   ]
  },
  {
   "cell_type": "markdown",
   "metadata": {},
   "source": [
    "## 2. Make a plot that shows the relation between X and Y\n",
    "Usually, the first step to showing a relation between two variables is creating a scatter plot. See the plot documentation on how to create this kind of plot from a DataFrame."
   ]
  },
  {
   "cell_type": "code",
   "execution_count": 96,
   "metadata": {
    "collapsed": false
   },
   "outputs": [
    {
     "name": "stdout",
     "output_type": "stream",
     "text": [
      "Populating the interactive namespace from numpy and matplotlib\n"
     ]
    }
   ],
   "source": [
    "%pylab inline"
   ]
  },
  {
   "cell_type": "code",
   "execution_count": 97,
   "metadata": {
    "collapsed": false
   },
   "outputs": [
    {
     "data": {
      "text/plain": [
       "<matplotlib.axes._subplots.AxesSubplot at 0x113e1d610>"
      ]
     },
     "execution_count": 97,
     "metadata": {},
     "output_type": "execute_result"
    },
    {
     "data": {
      "image/png": "[encoded data removed]",
      "text/plain": [
       "<matplotlib.figure.Figure at 0x113f35190>"
      ]
     },
     "metadata": {},
     "output_type": "display_data"
    }
   ],
   "source": [
    "data_frame.plot(kind='scatter', x='X', y='Y')"
   ]
  },
  {
   "cell_type": "markdown",
   "metadata": {},
   "source": [
    "## 3. Make a plot that shows the relation between X and P"
   ]
  },
  {
   "cell_type": "code",
   "execution_count": 98,
   "metadata": {
    "collapsed": false
   },
   "outputs": [
    {
     "data": {
      "text/plain": [
       "<matplotlib.axes._subplots.AxesSubplot at 0x113f6dfd0>"
      ]
     },
     "execution_count": 98,
     "metadata": {},
     "output_type": "execute_result"
    },
    {
     "data": {
      "image/png": "[encoded data removed]",
      "text/plain": [
       "<matplotlib.figure.Figure at 0x113f77610>"
      ]
     },
     "metadata": {},
     "output_type": "display_data"
    }
   ],
   "source": [
    "# First attempt: regular scatter plot\n",
    "data_frame.plot(kind='scatter', x='X', y='P')"
   ]
  },
  {
   "cell_type": "code",
   "execution_count": 99,
   "metadata": {
    "collapsed": false
   },
   "outputs": [
    {
     "data": {
      "text/plain": [
       "<matplotlib.axes._subplots.AxesSubplot at 0x1140e0250>"
      ]
     },
     "execution_count": 99,
     "metadata": {},
     "output_type": "execute_result"
    },
    {
     "data": {
      "image/png": "[encoded data removed]",
      "text/plain": [
       "<matplotlib.figure.Figure at 0x113bdbcd0>"
      ]
     },
     "metadata": {},
     "output_type": "display_data"
    }
   ],
   "source": [
    "# The plot above doesn't really reveal the relation between the two\n",
    "# variables, mostly because the values for P range from very small\n",
    "# to very large and appear to have little in between. Sometimes,\n",
    "# this indicates a power law distribution. To verify this, we can\n",
    "# tell Pandas to create a log scale on the vertical axis in which\n",
    "# case the exponential relationship should look lineair.\n",
    "\n",
    "data_frame.plot(kind='scatter', x='X', y='P', logy=True)"
   ]
  },
  {
   "cell_type": "markdown",
   "metadata": {},
   "source": [
    "## 4. Make a plot that shows the distributions of X and U"
   ]
  },
  {
   "cell_type": "code",
   "execution_count": 100,
   "metadata": {
    "collapsed": false
   },
   "outputs": [
    {
     "data": {
      "text/plain": [
       "<matplotlib.axes._subplots.AxesSubplot at 0x1142c3410>"
      ]
     },
     "execution_count": 100,
     "metadata": {},
     "output_type": "execute_result"
    },
    {
     "data": {
      "image/png": "[encoded data removed]",
      "text/plain": [
       "<matplotlib.figure.Figure at 0x1140f5410>"
      ]
     },
     "metadata": {},
     "output_type": "display_data"
    }
   ],
   "source": [
    "# Options 1: histogram\n",
    "data_frame.X.hist()"
   ]
  },
  {
   "cell_type": "code",
   "execution_count": 101,
   "metadata": {
    "collapsed": false
   },
   "outputs": [
    {
     "data": {
      "text/plain": [
       "<matplotlib.axes._subplots.AxesSubplot at 0x1143114d0>"
      ]
     },
     "execution_count": 101,
     "metadata": {},
     "output_type": "execute_result"
    },
    {
     "data": {
      "image/png": "[encoded data removed]",
      "text/plain": [
       "<matplotlib.figure.Figure at 0x1140f5250>"
      ]
     },
     "metadata": {},
     "output_type": "display_data"
    }
   ],
   "source": [
    "data_frame.U.hist()"
   ]
  },
  {
   "cell_type": "code",
   "execution_count": 102,
   "metadata": {
    "collapsed": false
   },
   "outputs": [
    {
     "data": {
      "text/plain": [
       "<matplotlib.axes._subplots.AxesSubplot at 0x1144f8150>"
      ]
     },
     "execution_count": 102,
     "metadata": {},
     "output_type": "execute_result"
    },
    {
     "data": {
      "image/png": "[encoded data removed]",
      "text/plain": [
       "<matplotlib.figure.Figure at 0x11458e290>"
      ]
     },
     "metadata": {},
     "output_type": "display_data"
    }
   ],
   "source": [
    "# Option 2: kernel density estimate\n",
    "data_frame.X.plot(kind='kde')"
   ]
  },
  {
   "cell_type": "code",
   "execution_count": 103,
   "metadata": {
    "collapsed": false
   },
   "outputs": [
    {
     "data": {
      "text/plain": [
       "<matplotlib.axes._subplots.AxesSubplot at 0x1146b56d0>"
      ]
     },
     "execution_count": 103,
     "metadata": {},
     "output_type": "execute_result"
    },
    {
     "data": {
      "image/png": "[encoded data removed]",
      "text/plain": [
       "<matplotlib.figure.Figure at 0x1146ae810>"
      ]
     },
     "metadata": {},
     "output_type": "display_data"
    }
   ],
   "source": [
    "data_frame.U.plot(kind='kde')"
   ]
  },
  {
   "cell_type": "markdown",
   "metadata": {},
   "source": [
    "## 5. Create a new column from Y divided by X\n",
    "This new column will allow us to figure out the magnitude of the lineair relation between X and Y that we have seen in the scatter plot of the two variables. For the new column, calculate the mean, variance and standard deviation, so we can learn about the distribution of the noise in the lineair relation. Also, it may make sense to plot the distribution of the difference to further visualize the noise."
   ]
  },
  {
   "cell_type": "code",
   "execution_count": 104,
   "metadata": {
    "collapsed": false
   },
   "outputs": [],
   "source": [
    "# Create the new column\n",
    "data_frame['X_over_Y'] = data_frame.Y / data_frame.X"
   ]
  },
  {
   "cell_type": "code",
   "execution_count": 105,
   "metadata": {
    "collapsed": false
   },
   "outputs": [
    {
     "data": {
      "text/plain": [
       "(1.8044676500777665, 0.0098780934345564959, 0.099388598111435786)"
      ]
     },
     "execution_count": 105,
     "metadata": {},
     "output_type": "execute_result"
    }
   ],
   "source": [
    "# Get the statistics for the new column\n",
    "# This shows us that on aveerage Y = 1.8 * X\n",
    "# However, there is some noise, so Y = 1.8 * X + noise\n",
    "data_frame.X_over_Y.mean(), data_frame.X_over_Y.var(), data_frame.X_over_Y.std()"
   ]
  },
  {
   "cell_type": "code",
   "execution_count": 106,
   "metadata": {
    "collapsed": false
   },
   "outputs": [
    {
     "data": {
      "text/plain": [
       "<matplotlib.axes._subplots.AxesSubplot at 0x1147c46d0>"
      ]
     },
     "execution_count": 106,
     "metadata": {},
     "output_type": "execute_result"
    },
    {
     "data": {
      "image/png": "[encoded data removed]",
      "text/plain": [
       "<matplotlib.figure.Figure at 0x1147cda90>"
      ]
     },
     "metadata": {},
     "output_type": "display_data"
    }
   ],
   "source": [
    "# Here we see that the distribution of the noise\n",
    "# appears to be a normal distribution\n",
    "data_frame.X_over_Y.hist()"
   ]
  }
 ],
 "metadata": {
  "kernelspec": {
   "display_name": "Python 2",
   "language": "python",
   "name": "python2"
  },
  "language_info": {
   "codemirror_mode": {
    "name": "ipython",
    "version": 2
   },
   "file_extension": ".py",
   "mimetype": "text/x-python",
   "name": "python",
   "nbconvert_exporter": "python",
   "pygments_lexer": "ipython2",
   "version": "2.7.8"
  }
 },
 "nbformat": 4,
 "nbformat_minor": 0
}
