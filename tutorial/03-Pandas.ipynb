{
 "cells": [
  {
   "cell_type": "markdown",
   "metadata": {},
   "source": [
    "# Python for Data Analysis\n",
    "When we work with big datasets on Hadoop, we use Spark to distribute the processing across a cluster of machines. However, the data is often aggregated to a point where it makes more sense to just load it onto the client machine and work with it directly. This is useful for visualizing the results. Also, sometimes it makes sense to work with a small sample of the entire dataset and work with it locally, in order to quickly figure out some rough estimates and correlations, before crunching the entire dataset.\n",
    "\n",
    "For Python there is a widely used package for data analysis called Pandas. Pandas revolves around a concept called data frames, which is basically Excel on steroids.\n",
    "\n",
    "Data frames have rows and columns, just like spreadsheets. Columns have names and rows have a number (the index). Let's look at some examples."
   ]
  },
  {
   "cell_type": "code",
   "execution_count": 1,
   "metadata": {
    "collapsed": true
   },
   "outputs": [],
   "source": [
    "# Import pandas, the pd shorthand is idiomatic in the Python data community\n",
    "import pandas as pd\n",
    "\n",
    "# FizzBuzz, again, for the examples\n",
    "word = lambda x: [\"{0}\", \"Fizz\", \"Buzz\", \"FizzBuzz\"][(x % 3 == 0) | ((x % 5 == 0) << 1)].format(x)"
   ]
  },
  {
   "cell_type": "markdown",
   "metadata": {},
   "source": [
    "## Constructing a data frame\n",
    "You can create a data frame using its constructor, which can take a number of different types and shapes of parameters. One form that we'll be using frequently is just passing it a list of dictionaries (the Python naming of hashtables)."
   ]
  },
  {
   "cell_type": "code",
   "execution_count": 2,
   "metadata": {
    "collapsed": false
   },
   "outputs": [
    {
     "data": {
      "text/html": [
       "<div style=\"max-height:1000px;max-width:1500px;overflow:auto;\">\n",
       "<table border=\"1\" class=\"dataframe\">\n",
       "  <thead>\n",
       "    <tr style=\"text-align: right;\">\n",
       "      <th></th>\n",
       "      <th>number</th>\n",
       "      <th>fizzbuzz</th>\n",
       "    </tr>\n",
       "  </thead>\n",
       "  <tbody>\n",
       "    <tr>\n",
       "      <th>0</th>\n",
       "      <td>1</td>\n",
       "      <td>1</td>\n",
       "    </tr>\n",
       "    <tr>\n",
       "      <th>1</th>\n",
       "      <td>2</td>\n",
       "      <td>2</td>\n",
       "    </tr>\n",
       "    <tr>\n",
       "      <th>2</th>\n",
       "      <td>3</td>\n",
       "      <td>Fizz</td>\n",
       "    </tr>\n",
       "    <tr>\n",
       "      <th>3</th>\n",
       "      <td>4</td>\n",
       "      <td>4</td>\n",
       "    </tr>\n",
       "    <tr>\n",
       "      <th>4</th>\n",
       "      <td>5</td>\n",
       "      <td>Buzz</td>\n",
       "    </tr>\n",
       "    <tr>\n",
       "      <th>5</th>\n",
       "      <td>6</td>\n",
       "      <td>Fizz</td>\n",
       "    </tr>\n",
       "    <tr>\n",
       "      <th>6</th>\n",
       "      <td>7</td>\n",
       "      <td>7</td>\n",
       "    </tr>\n",
       "    <tr>\n",
       "      <th>7</th>\n",
       "      <td>8</td>\n",
       "      <td>8</td>\n",
       "    </tr>\n",
       "    <tr>\n",
       "      <th>8</th>\n",
       "      <td>9</td>\n",
       "      <td>Fizz</td>\n",
       "    </tr>\n",
       "    <tr>\n",
       "      <th>9</th>\n",
       "      <td>10</td>\n",
       "      <td>Buzz</td>\n",
       "    </tr>\n",
       "    <tr>\n",
       "      <th>10</th>\n",
       "      <td>11</td>\n",
       "      <td>11</td>\n",
       "    </tr>\n",
       "    <tr>\n",
       "      <th>11</th>\n",
       "      <td>12</td>\n",
       "      <td>Fizz</td>\n",
       "    </tr>\n",
       "    <tr>\n",
       "      <th>12</th>\n",
       "      <td>13</td>\n",
       "      <td>13</td>\n",
       "    </tr>\n",
       "    <tr>\n",
       "      <th>13</th>\n",
       "      <td>14</td>\n",
       "      <td>14</td>\n",
       "    </tr>\n",
       "    <tr>\n",
       "      <th>14</th>\n",
       "      <td>15</td>\n",
       "      <td>FizzBuzz</td>\n",
       "    </tr>\n",
       "    <tr>\n",
       "      <th>15</th>\n",
       "      <td>16</td>\n",
       "      <td>16</td>\n",
       "    </tr>\n",
       "    <tr>\n",
       "      <th>16</th>\n",
       "      <td>17</td>\n",
       "      <td>17</td>\n",
       "    </tr>\n",
       "    <tr>\n",
       "      <th>17</th>\n",
       "      <td>18</td>\n",
       "      <td>Fizz</td>\n",
       "    </tr>\n",
       "    <tr>\n",
       "      <th>18</th>\n",
       "      <td>19</td>\n",
       "      <td>19</td>\n",
       "    </tr>\n",
       "    <tr>\n",
       "      <th>19</th>\n",
       "      <td>20</td>\n",
       "      <td>Buzz</td>\n",
       "    </tr>\n",
       "    <tr>\n",
       "      <th>20</th>\n",
       "      <td>21</td>\n",
       "      <td>Fizz</td>\n",
       "    </tr>\n",
       "  </tbody>\n",
       "</table>\n",
       "</div>"
      ],
      "text/plain": [
       "    number  fizzbuzz\n",
       "0        1         1\n",
       "1        2         2\n",
       "2        3      Fizz\n",
       "3        4         4\n",
       "4        5      Buzz\n",
       "5        6      Fizz\n",
       "6        7         7\n",
       "7        8         8\n",
       "8        9      Fizz\n",
       "9       10      Buzz\n",
       "10      11        11\n",
       "11      12      Fizz\n",
       "12      13        13\n",
       "13      14        14\n",
       "14      15  FizzBuzz\n",
       "15      16        16\n",
       "16      17        17\n",
       "17      18      Fizz\n",
       "18      19        19\n",
       "19      20      Buzz\n",
       "20      21      Fizz"
      ]
     },
     "execution_count": 2,
     "metadata": {},
     "output_type": "execute_result"
    }
   ],
   "source": [
    "# Create some data\n",
    "data = [{\n",
    "    'number': n,\n",
    "    'fizzbuzz': word(n)\n",
    "    } for n in range(1,22)]\n",
    "\n",
    "# We explicitly list the columns to force the column order, but you don't have to\n",
    "data_frame = pd.DataFrame(data, columns=['number', 'fizzbuzz'])\n",
    "\n",
    "data_frame"
   ]
  },
  {
   "cell_type": "markdown",
   "metadata": {},
   "source": [
    "## RDDs and data frames\n",
    "Often, the result of some operations on Spark RDDs are small datasets, like the histogram we created in the previous exercise. In this case, we usually like to store those results in a data frame, so we can visualize them nicely and easily. Here, we take the histogram from the previous exercise and collect it into a data frame."
   ]
  },
  {
   "cell_type": "code",
   "execution_count": 3,
   "metadata": {
    "collapsed": false
   },
   "outputs": [
    {
     "data": {
      "text/html": [
       "<div style=\"max-height:1000px;max-width:1500px;overflow:auto;\">\n",
       "<table border=\"1\" class=\"dataframe\">\n",
       "  <thead>\n",
       "    <tr style=\"text-align: right;\">\n",
       "      <th></th>\n",
       "      <th>type</th>\n",
       "      <th>count</th>\n",
       "    </tr>\n",
       "  </thead>\n",
       "  <tbody>\n",
       "    <tr>\n",
       "      <th>0</th>\n",
       "      <td>FizzBuzz</td>\n",
       "      <td>13333</td>\n",
       "    </tr>\n",
       "    <tr>\n",
       "      <th>1</th>\n",
       "      <td>Number</td>\n",
       "      <td>106667</td>\n",
       "    </tr>\n",
       "    <tr>\n",
       "      <th>2</th>\n",
       "      <td>Fizz</td>\n",
       "      <td>53333</td>\n",
       "    </tr>\n",
       "    <tr>\n",
       "      <th>3</th>\n",
       "      <td>Buzz</td>\n",
       "      <td>26667</td>\n",
       "    </tr>\n",
       "  </tbody>\n",
       "</table>\n",
       "</div>"
      ],
      "text/plain": [
       "       type   count\n",
       "0  FizzBuzz   13333\n",
       "1    Number  106667\n",
       "2      Fizz   53333\n",
       "3      Buzz   26667"
      ]
     },
     "execution_count": 3,
     "metadata": {},
     "output_type": "execute_result"
    }
   ],
   "source": [
    "fizzbuzz = sc.textFile('fizzbuzz.csv')\n",
    "parsed = fizzbuzz.map(lambda line: tuple(line.strip().split(',')))\n",
    "def fizzbuzz_key(fb):\n",
    "    if fb == 'Fizz' or fb == 'Buzz' or fb == 'FizzBuzz':\n",
    "        return fb\n",
    "    else:\n",
    "        return 'Number'\n",
    "\n",
    "data = parsed\\\n",
    ".map(lambda (n, fb): (fizzbuzz_key(fb), 1))\\\n",
    ".reduceByKey(lambda x,y: x + y)\\\n",
    ".collect()\n",
    "\n",
    "data_frame = pd.DataFrame(data, columns=['type', 'count'])\n",
    "data_frame"
   ]
  },
  {
   "cell_type": "markdown",
   "metadata": {},
   "source": [
    "## Plotting\n",
    "Data frames come with a number of built-in visualization methods. These make use of a Python package called matplotlib, which integrates with IPython notebook. In order to ensure proper rendering of figures, we have to instruct the kernel to inline the plots into the notebook. From there on, plotting is relatively easy.\n",
    "\n",
    "For the all the available plots and options, see the Pandas [API doc for `plot(...)`](http://pandas.pydata.org/pandas-docs/dev/generated/pandas.DataFrame.plot.html)."
   ]
  },
  {
   "cell_type": "code",
   "execution_count": 4,
   "metadata": {
    "collapsed": false
   },
   "outputs": [
    {
     "name": "stdout",
     "output_type": "stream",
     "text": [
      "Populating the interactive namespace from numpy and matplotlib\n"
     ]
    }
   ],
   "source": [
    "# This instructs the notebook to inline plots\n",
    "%pylab inline"
   ]
  },
  {
   "cell_type": "code",
   "execution_count": 5,
   "metadata": {
    "collapsed": false
   },
   "outputs": [
    {
     "data": {
      "text/plain": [
       "<matplotlib.axes._subplots.AxesSubplot at 0x109df2d50>"
      ]
     },
     "execution_count": 5,
     "metadata": {},
     "output_type": "execute_result"
    },
    {
     "data": {
      "image/png": "[encoded data removed]",
      "text/plain": [
       "<matplotlib.figure.Figure at 0x108b00650>"
      ]
     },
     "metadata": {},
     "output_type": "display_data"
    }
   ],
   "source": [
    "data_frame.plot(kind='bar', x='type', y='count', legend=False)"
   ]
  },
  {
   "cell_type": "markdown",
   "metadata": {},
   "source": [
    "## Sampling\n",
    "Another common use case is to take a sample from a large dataset (RDD) and use the sample for a local analysis on a smaller scale, before applying the same analysis to the entire dataset. Here we take a sample of the fizzbuzz data and use the sample to figure out if there is a relation between the number being divisable by three and the label.\n",
    "\n",
    "A Pandas data frame is not unlike a dictionary. You can add columns by transforming other columns in different ways. Here we take the number column and add a column based on whether the number column is divisable by three.\n",
    "\n",
    "The file that we have loaded contains only strings, while we need to parse them when working with numbers. For this reason we need to map the parsed results to numbers where necessary."
   ]
  },
  {
   "cell_type": "code",
   "execution_count": 6,
   "metadata": {
    "collapsed": false
   },
   "outputs": [],
   "source": [
    "# Take a 1% sample and load it into a DataFrame\n",
    "fizzbuzz_data_frame = pd.DataFrame(\n",
    "    parsed.map(lambda (n, fb): (int(n), fb)).sample(False, 0.01, 0).collect(),\n",
    "    columns=['number', 'fizzbuzz'])"
   ]
  },
  {
   "cell_type": "code",
   "execution_count": 18,
   "metadata": {
    "collapsed": false
   },
   "outputs": [
    {
     "data": {
      "text/html": [
       "<div style=\"max-height:1000px;max-width:1500px;overflow:auto;\">\n",
       "<table border=\"1\" class=\"dataframe\">\n",
       "  <thead>\n",
       "    <tr style=\"text-align: right;\">\n",
       "      <th></th>\n",
       "      <th>number</th>\n",
       "      <th>fizzbuzz</th>\n",
       "    </tr>\n",
       "  </thead>\n",
       "  <tbody>\n",
       "    <tr>\n",
       "      <th>0 </th>\n",
       "      <td>   31</td>\n",
       "      <td>   31</td>\n",
       "    </tr>\n",
       "    <tr>\n",
       "      <th>1 </th>\n",
       "      <td>  177</td>\n",
       "      <td> Fizz</td>\n",
       "    </tr>\n",
       "    <tr>\n",
       "      <th>2 </th>\n",
       "      <td>  216</td>\n",
       "      <td> Fizz</td>\n",
       "    </tr>\n",
       "    <tr>\n",
       "      <th>3 </th>\n",
       "      <td>  257</td>\n",
       "      <td>  257</td>\n",
       "    </tr>\n",
       "    <tr>\n",
       "      <th>4 </th>\n",
       "      <td>  301</td>\n",
       "      <td>  301</td>\n",
       "    </tr>\n",
       "    <tr>\n",
       "      <th>5 </th>\n",
       "      <td>  393</td>\n",
       "      <td> Fizz</td>\n",
       "    </tr>\n",
       "    <tr>\n",
       "      <th>6 </th>\n",
       "      <td>  493</td>\n",
       "      <td>  493</td>\n",
       "    </tr>\n",
       "    <tr>\n",
       "      <th>7 </th>\n",
       "      <td>  503</td>\n",
       "      <td>  503</td>\n",
       "    </tr>\n",
       "    <tr>\n",
       "      <th>8 </th>\n",
       "      <td>  574</td>\n",
       "      <td>  574</td>\n",
       "    </tr>\n",
       "    <tr>\n",
       "      <th>9 </th>\n",
       "      <td>  577</td>\n",
       "      <td>  577</td>\n",
       "    </tr>\n",
       "    <tr>\n",
       "      <th>10</th>\n",
       "      <td>  654</td>\n",
       "      <td> Fizz</td>\n",
       "    </tr>\n",
       "    <tr>\n",
       "      <th>11</th>\n",
       "      <td>  714</td>\n",
       "      <td> Fizz</td>\n",
       "    </tr>\n",
       "    <tr>\n",
       "      <th>12</th>\n",
       "      <td>  897</td>\n",
       "      <td> Fizz</td>\n",
       "    </tr>\n",
       "    <tr>\n",
       "      <th>13</th>\n",
       "      <td>  974</td>\n",
       "      <td>  974</td>\n",
       "    </tr>\n",
       "    <tr>\n",
       "      <th>14</th>\n",
       "      <td>  984</td>\n",
       "      <td> Fizz</td>\n",
       "    </tr>\n",
       "    <tr>\n",
       "      <th>15</th>\n",
       "      <td> 1085</td>\n",
       "      <td> Buzz</td>\n",
       "    </tr>\n",
       "    <tr>\n",
       "      <th>16</th>\n",
       "      <td> 1242</td>\n",
       "      <td> Fizz</td>\n",
       "    </tr>\n",
       "    <tr>\n",
       "      <th>17</th>\n",
       "      <td> 1369</td>\n",
       "      <td> 1369</td>\n",
       "    </tr>\n",
       "    <tr>\n",
       "      <th>18</th>\n",
       "      <td> 1448</td>\n",
       "      <td> 1448</td>\n",
       "    </tr>\n",
       "    <tr>\n",
       "      <th>19</th>\n",
       "      <td> 1459</td>\n",
       "      <td> 1459</td>\n",
       "    </tr>\n",
       "  </tbody>\n",
       "</table>\n",
       "</div>"
      ],
      "text/plain": [
       "    number fizzbuzz\n",
       "0       31       31\n",
       "1      177     Fizz\n",
       "2      216     Fizz\n",
       "3      257      257\n",
       "4      301      301\n",
       "5      393     Fizz\n",
       "6      493      493\n",
       "7      503      503\n",
       "8      574      574\n",
       "9      577      577\n",
       "10     654     Fizz\n",
       "11     714     Fizz\n",
       "12     897     Fizz\n",
       "13     974      974\n",
       "14     984     Fizz\n",
       "15    1085     Buzz\n",
       "16    1242     Fizz\n",
       "17    1369     1369\n",
       "18    1448     1448\n",
       "19    1459     1459"
      ]
     },
     "execution_count": 18,
     "metadata": {},
     "output_type": "execute_result"
    }
   ],
   "source": [
    "# Have a look at some rows from the top\n",
    "fizzbuzz_data_frame.head(20)"
   ]
  },
  {
   "cell_type": "markdown",
   "metadata": {},
   "source": [
    "## Vectorized operations\n",
    "After having a closer look at our sample above, we suspect that there is some kind of relation between a number being divisible by 3 and the value for the FizzBuzz output. In order to validate this, we add a column to the data frame that indicates if the number is divisble by three (True) or not (False).\n",
    "\n",
    "Pandas data frames have the ability to perform so called vectorized operations. This means that you write an operation as if it was performed on a single value, but actually apply it to an entire row and/or column at once. We use this to transform an entire column into a new one in one go.\n",
    "\n",
    "Another way of performing a vectorized operation is to apply one function to all values in a column at once. This is similar to a map(...) operation in functional programming.\n",
    "\n",
    "Here we use both forms to add some information to our data frame."
   ]
  },
  {
   "cell_type": "code",
   "execution_count": 9,
   "metadata": {
    "collapsed": false
   },
   "outputs": [
    {
     "data": {
      "text/html": [
       "<div style=\"max-height:1000px;max-width:1500px;overflow:auto;\">\n",
       "<table border=\"1\" class=\"dataframe\">\n",
       "  <thead>\n",
       "    <tr style=\"text-align: right;\">\n",
       "      <th></th>\n",
       "      <th>number</th>\n",
       "      <th>fizzbuzz</th>\n",
       "      <th>by_three</th>\n",
       "      <th>type</th>\n",
       "    </tr>\n",
       "  </thead>\n",
       "  <tbody>\n",
       "    <tr>\n",
       "      <th>0</th>\n",
       "      <td>31</td>\n",
       "      <td>31</td>\n",
       "      <td>False</td>\n",
       "      <td>Number</td>\n",
       "    </tr>\n",
       "    <tr>\n",
       "      <th>1</th>\n",
       "      <td>177</td>\n",
       "      <td>Fizz</td>\n",
       "      <td>True</td>\n",
       "      <td>Fizz</td>\n",
       "    </tr>\n",
       "    <tr>\n",
       "      <th>2</th>\n",
       "      <td>216</td>\n",
       "      <td>Fizz</td>\n",
       "      <td>True</td>\n",
       "      <td>Fizz</td>\n",
       "    </tr>\n",
       "    <tr>\n",
       "      <th>3</th>\n",
       "      <td>257</td>\n",
       "      <td>257</td>\n",
       "      <td>False</td>\n",
       "      <td>Number</td>\n",
       "    </tr>\n",
       "    <tr>\n",
       "      <th>4</th>\n",
       "      <td>301</td>\n",
       "      <td>301</td>\n",
       "      <td>False</td>\n",
       "      <td>Number</td>\n",
       "    </tr>\n",
       "    <tr>\n",
       "      <th>5</th>\n",
       "      <td>393</td>\n",
       "      <td>Fizz</td>\n",
       "      <td>True</td>\n",
       "      <td>Fizz</td>\n",
       "    </tr>\n",
       "    <tr>\n",
       "      <th>6</th>\n",
       "      <td>493</td>\n",
       "      <td>493</td>\n",
       "      <td>False</td>\n",
       "      <td>Number</td>\n",
       "    </tr>\n",
       "    <tr>\n",
       "      <th>7</th>\n",
       "      <td>503</td>\n",
       "      <td>503</td>\n",
       "      <td>False</td>\n",
       "      <td>Number</td>\n",
       "    </tr>\n",
       "    <tr>\n",
       "      <th>8</th>\n",
       "      <td>574</td>\n",
       "      <td>574</td>\n",
       "      <td>False</td>\n",
       "      <td>Number</td>\n",
       "    </tr>\n",
       "    <tr>\n",
       "      <th>9</th>\n",
       "      <td>577</td>\n",
       "      <td>577</td>\n",
       "      <td>False</td>\n",
       "      <td>Number</td>\n",
       "    </tr>\n",
       "    <tr>\n",
       "      <th>10</th>\n",
       "      <td>654</td>\n",
       "      <td>Fizz</td>\n",
       "      <td>True</td>\n",
       "      <td>Fizz</td>\n",
       "    </tr>\n",
       "    <tr>\n",
       "      <th>11</th>\n",
       "      <td>714</td>\n",
       "      <td>Fizz</td>\n",
       "      <td>True</td>\n",
       "      <td>Fizz</td>\n",
       "    </tr>\n",
       "    <tr>\n",
       "      <th>12</th>\n",
       "      <td>897</td>\n",
       "      <td>Fizz</td>\n",
       "      <td>True</td>\n",
       "      <td>Fizz</td>\n",
       "    </tr>\n",
       "    <tr>\n",
       "      <th>13</th>\n",
       "      <td>974</td>\n",
       "      <td>974</td>\n",
       "      <td>False</td>\n",
       "      <td>Number</td>\n",
       "    </tr>\n",
       "    <tr>\n",
       "      <th>14</th>\n",
       "      <td>984</td>\n",
       "      <td>Fizz</td>\n",
       "      <td>True</td>\n",
       "      <td>Fizz</td>\n",
       "    </tr>\n",
       "    <tr>\n",
       "      <th>15</th>\n",
       "      <td>1085</td>\n",
       "      <td>Buzz</td>\n",
       "      <td>False</td>\n",
       "      <td>Buzz</td>\n",
       "    </tr>\n",
       "    <tr>\n",
       "      <th>16</th>\n",
       "      <td>1242</td>\n",
       "      <td>Fizz</td>\n",
       "      <td>True</td>\n",
       "      <td>Fizz</td>\n",
       "    </tr>\n",
       "    <tr>\n",
       "      <th>17</th>\n",
       "      <td>1369</td>\n",
       "      <td>1369</td>\n",
       "      <td>False</td>\n",
       "      <td>Number</td>\n",
       "    </tr>\n",
       "    <tr>\n",
       "      <th>18</th>\n",
       "      <td>1448</td>\n",
       "      <td>1448</td>\n",
       "      <td>False</td>\n",
       "      <td>Number</td>\n",
       "    </tr>\n",
       "    <tr>\n",
       "      <th>19</th>\n",
       "      <td>1459</td>\n",
       "      <td>1459</td>\n",
       "      <td>False</td>\n",
       "      <td>Number</td>\n",
       "    </tr>\n",
       "  </tbody>\n",
       "</table>\n",
       "</div>"
      ],
      "text/plain": [
       "    number fizzbuzz by_three    type\n",
       "0       31       31    False  Number\n",
       "1      177     Fizz     True    Fizz\n",
       "2      216     Fizz     True    Fizz\n",
       "3      257      257    False  Number\n",
       "4      301      301    False  Number\n",
       "5      393     Fizz     True    Fizz\n",
       "6      493      493    False  Number\n",
       "7      503      503    False  Number\n",
       "8      574      574    False  Number\n",
       "9      577      577    False  Number\n",
       "10     654     Fizz     True    Fizz\n",
       "11     714     Fizz     True    Fizz\n",
       "12     897     Fizz     True    Fizz\n",
       "13     974      974    False  Number\n",
       "14     984     Fizz     True    Fizz\n",
       "15    1085     Buzz    False    Buzz\n",
       "16    1242     Fizz     True    Fizz\n",
       "17    1369     1369    False  Number\n",
       "18    1448     1448    False  Number\n",
       "19    1459     1459    False  Number"
      ]
     },
     "execution_count": 9,
     "metadata": {},
     "output_type": "execute_result"
    }
   ],
   "source": [
    "# Add a column for divsibility by three and for the type of FizzBuzz result\n",
    "fizzbuzz_data_frame['by_three'] = fizzbuzz_data_frame.number % 3 == 0\n",
    "fizzbuzz_data_frame['type'] = fizzbuzz_data_frame.fizzbuzz.apply(fizzbuzz_key)\n",
    "fizzbuzz_data_frame.head(20)"
   ]
  },
  {
   "cell_type": "markdown",
   "metadata": {},
   "source": [
    "## The results\n",
    "Next we use Pandas' built in methods for grouping and counting to look into the supposed relation between number and FizzBuzz output. We group the data frame by the `type` and `by_three` columns and count how often each combination occurs. Here we find out that a number divisible by 3 will never result in the number being output by the FizzBuzz program. Most of the times a number that is divisible by 3 will result in the Fizz output and sometimes in the FizzBuzz output, but also never in Buzz. We could be on to something!"
   ]
  },
  {
   "cell_type": "code",
   "execution_count": 13,
   "metadata": {
    "collapsed": false
   },
   "outputs": [
    {
     "data": {
      "text/plain": [
       "type      by_three\n",
       "Buzz      False        314\n",
       "Fizz      True         532\n",
       "FizzBuzz  True         156\n",
       "Number    False       1088\n",
       "Name: fizzbuzz, dtype: int64"
      ]
     },
     "execution_count": 13,
     "metadata": {},
     "output_type": "execute_result"
    }
   ],
   "source": [
    "fizzbuzz_data_frame.groupby(['type', 'by_three'])['fizzbuzz'].count()"
   ]
  },
  {
   "cell_type": "code",
   "execution_count": 14,
   "metadata": {
    "collapsed": false
   },
   "outputs": [
    {
     "data": {
      "text/plain": [
       "<matplotlib.axes._subplots.AxesSubplot at 0x10a146190>"
      ]
     },
     "execution_count": 14,
     "metadata": {},
     "output_type": "execute_result"
    },
    {
     "data": {
      "image/png": "[encoded data removed]",
      "text/plain": [
       "<matplotlib.figure.Figure at 0x109eb8f50>"
      ]
     },
     "metadata": {},
     "output_type": "display_data"
    }
   ],
   "source": [
    "# This can also be plotted\n",
    "fizzbuzz_data_frame.groupby(['type', 'by_three'])['fizzbuzz'].count().plot(kind='bar')"
   ]
  }
 ],
 "metadata": {
  "kernelspec": {
   "display_name": "Python 2",
   "language": "python",
   "name": "python2"
  },
  "language_info": {
   "codemirror_mode": {
    "name": "ipython",
    "version": 2
   },
   "file_extension": ".py",
   "mimetype": "text/x-python",
   "name": "python",
   "nbconvert_exporter": "python",
   "pygments_lexer": "ipython2",
   "version": "2.7.8"
  }
 },
 "nbformat": 4,
 "nbformat_minor": 0
}
