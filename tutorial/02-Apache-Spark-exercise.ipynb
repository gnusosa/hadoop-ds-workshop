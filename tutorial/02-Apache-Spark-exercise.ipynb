{
 "cells": [
  {
   "cell_type": "markdown",
   "metadata": {},
   "source": [
    "# Spark exercise\n",
    "In this exercise, we'll use Spark in an IPython notebook to load data from a file, process it and extract some information.\n",
    "\n",
    "Here are some important links / references:\n",
    "- [Spark documentation overview](https://spark.apache.org/documentation.html)\n",
    "- [Spark Python API](https://spark.apache.org/docs/latest/api/python/index.html) / [Python RDD API](https://spark.apache.org/docs/latest/api/python/pyspark.html#pyspark.RDD)\n",
    "- [Spark programming guide](https://spark.apache.org/docs/latest/programming-guide.html)"
   ]
  },
  {
   "cell_type": "markdown",
   "metadata": {},
   "source": [
    "## 1. Load data\n",
    "In the current directory, you can find a CSV dump of the first 200000 (range 1...200001) numbers with their FizzBuzz output. Load this data into an RDD as a text file and count the number of lines."
   ]
  },
  {
   "cell_type": "code",
   "execution_count": 2,
   "metadata": {
    "collapsed": false
   },
   "outputs": [],
   "source": [
    "# Load fizzbuzz.csv"
   ]
  },
  {
   "cell_type": "markdown",
   "metadata": {},
   "source": [
    "## 2. Parse the CSV\n",
    "Parse each line in the CSV into a tuple. Display the first 20 parsed tuples as a result."
   ]
  },
  {
   "cell_type": "code",
   "execution_count": null,
   "metadata": {
    "collapsed": false
   },
   "outputs": [],
   "source": [
    "# Parse RDD created in previous step"
   ]
  },
  {
   "cell_type": "markdown",
   "metadata": {},
   "source": [
    "## 3. Make histogram of Fizz, Buzz, FizzBuzz or number\n",
    "Count how often the values in the dataset are Fizz, Buzz, FizzBuzz or just a number. Construct a histogram of the types of values in the data."
   ]
  },
  {
   "cell_type": "code",
   "execution_count": 1,
   "metadata": {
    "collapsed": false
   },
   "outputs": [],
   "source": [
    "# Extract type of value for each tuple and count number of occurrence of each"
   ]
  }
 ],
 "metadata": {
  "kernelspec": {
   "display_name": "Python 2",
   "language": "python",
   "name": "python2"
  },
  "language_info": {
   "codemirror_mode": {
    "name": "ipython",
    "version": 2
   },
   "file_extension": ".py",
   "mimetype": "text/x-python",
   "name": "python",
   "nbconvert_exporter": "python",
   "pygments_lexer": "ipython2",
   "version": "2.7.8"
  }
 },
 "nbformat": 4,
 "nbformat_minor": 0
}
