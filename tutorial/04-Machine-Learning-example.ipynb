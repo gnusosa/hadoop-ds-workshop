{
 "cells": [
  {
   "cell_type": "markdown",
   "metadata": {},
   "source": [
    "# A worked Machine Learning example\n",
    "In this notebook, we'll look at a worked example for examining a dataset and creating a predictive model, or ensemble of models, to predict the output for new data points.\n",
    "\n",
    "We will use the output of the FizzBuzz program and 'reverse engineer' the program using data analysis and machine learning. So, in the end, our model should be capable of predicting the output of the FizzBuzz program for a given input."
   ]
  },
  {
   "cell_type": "code",
   "execution_count": 1,
   "metadata": {
    "collapsed": false
   },
   "outputs": [
    {
     "name": "stdout",
     "output_type": "stream",
     "text": [
      "Populating the interactive namespace from numpy and matplotlib\n"
     ]
    }
   ],
   "source": [
    "%pylab inline"
   ]
  },
  {
   "cell_type": "code",
   "execution_count": 2,
   "metadata": {
    "collapsed": true
   },
   "outputs": [],
   "source": [
    "import pandas as pd\n",
    "import seaborn as sns\n",
    "from pyspark.mllib.tree import LabeledPoint, RandomForest, RandomForestModel\n",
    "from pyspark.mllib.regression import LinearRegressionWithSGD, RidgeRegressionWithSGD"
   ]
  },
  {
   "cell_type": "markdown",
   "metadata": {},
   "source": [
    "## Load and parse data"
   ]
  },
  {
   "cell_type": "code",
   "execution_count": 3,
   "metadata": {
    "collapsed": false
   },
   "outputs": [],
   "source": [
    "rdd = (\n",
    "    sc\n",
    "    .textFile('fizzbuzz.csv')                     # read textfile\n",
    "    .map(lambda line: line.strip().split(','))    # parse CSV into two fields\n",
    "    .map(lambda (n, fb): (int(n), fb))            # parse first element as int\n",
    ")"
   ]
  },
  {
   "cell_type": "markdown",
   "metadata": {},
   "source": [
    "## Data overview\n",
    "It is generally a good idea to get a count for your dataset, so you know that it loaded properly and that there are no obvious errors at first sight. Secondly, you'll want to just eyeball the data to have a look at the values in there and get a better feeling for what different columns might mean."
   ]
  },
  {
   "cell_type": "code",
   "execution_count": 4,
   "metadata": {
    "collapsed": false
   },
   "outputs": [
    {
     "data": {
      "text/plain": [
       "200000"
      ]
     },
     "execution_count": 4,
     "metadata": {},
     "output_type": "execute_result"
    }
   ],
   "source": [
    "rdd.count()"
   ]
  },
  {
   "cell_type": "code",
   "execution_count": 5,
   "metadata": {
    "collapsed": false
   },
   "outputs": [
    {
     "data": {
      "text/plain": [
       "[(1, u'1'),\n",
       " (2, u'2'),\n",
       " (3, u'Fizz'),\n",
       " (4, u'4'),\n",
       " (5, u'Buzz'),\n",
       " (6, u'Fizz'),\n",
       " (7, u'7'),\n",
       " (8, u'8'),\n",
       " (9, u'Fizz'),\n",
       " (10, u'Buzz'),\n",
       " (11, u'11'),\n",
       " (12, u'Fizz'),\n",
       " (13, u'13'),\n",
       " (14, u'14'),\n",
       " (15, u'FizzBuzz'),\n",
       " (16, u'16'),\n",
       " (17, u'17'),\n",
       " (18, u'Fizz'),\n",
       " (19, u'19'),\n",
       " (20, u'Buzz')]"
      ]
     },
     "execution_count": 5,
     "metadata": {},
     "output_type": "execute_result"
    }
   ],
   "source": [
    "rdd.take(20)"
   ]
  },
  {
   "cell_type": "markdown",
   "metadata": {},
   "source": [
    "## Numbers vs. the rest\n",
    "In this example, the target is to predict the second column of the data (fizzbuzz) based on the first (the number input). It appears that the output is a string which can either be a number or some label, usually Fizz, Buzz or FizzBuzz. Let us verify that this is the case. We'll split the data into two parts based on the output:\n",
    "- the numbers\n",
    "- the rest (textual output)\n",
    "\n",
    "Using this split and subsequent analysis, we might gain insight into what causes the output to be either a number or something else."
   ]
  },
  {
   "cell_type": "code",
   "execution_count": 6,
   "metadata": {
    "collapsed": false
   },
   "outputs": [],
   "source": [
    "def is_int(x):\n",
    "    try:\n",
    "        int(x)\n",
    "        return True\n",
    "    except:\n",
    "        return False"
   ]
  },
  {
   "cell_type": "code",
   "execution_count": 7,
   "metadata": {
    "collapsed": false
   },
   "outputs": [
    {
     "data": {
      "text/plain": [
       "[(3, u'Fizz'),\n",
       " (5, u'Buzz'),\n",
       " (6, u'Fizz'),\n",
       " (9, u'Fizz'),\n",
       " (10, u'Buzz'),\n",
       " (12, u'Fizz'),\n",
       " (15, u'FizzBuzz'),\n",
       " (18, u'Fizz'),\n",
       " (20, u'Buzz'),\n",
       " (21, u'Fizz'),\n",
       " (24, u'Fizz'),\n",
       " (25, u'Buzz'),\n",
       " (27, u'Fizz'),\n",
       " (30, u'FizzBuzz'),\n",
       " (33, u'Fizz'),\n",
       " (35, u'Buzz'),\n",
       " (36, u'Fizz'),\n",
       " (39, u'Fizz'),\n",
       " (40, u'Buzz'),\n",
       " (42, u'Fizz')]"
      ]
     },
     "execution_count": 7,
     "metadata": {},
     "output_type": "execute_result"
    }
   ],
   "source": [
    "not_numbers = rdd.filter(lambda (n, fb): not is_int(fb)) # Filter only values that are not an int\n",
    "not_numbers.take(20)"
   ]
  },
  {
   "cell_type": "markdown",
   "metadata": {},
   "source": [
    "## Fizz, Buzz, FizzBuzz\n",
    "It once more appears that all the non-numerical output is either Fizz, Buzz or FizzBuzz and nothing else. Here we verify this and also, we create a count for how often each of these occur. When working with a large dataset, we should always be careful when creating histograms like these and collectin them locally; there could be a very high cardinality and the result might be too large to collect locally in memory. Hence, we first do a count."
   ]
  },
  {
   "cell_type": "code",
   "execution_count": 8,
   "metadata": {
    "collapsed": false
   },
   "outputs": [
    {
     "data": {
      "text/plain": [
       "3"
      ]
     },
     "execution_count": 8,
     "metadata": {},
     "output_type": "execute_result"
    }
   ],
   "source": [
    "not_numbers_hist = (\n",
    "    not_numbers\n",
    "    .map(lambda (n, fb): (fb, 1))       # Create tuples of (value, 1)\n",
    "    .reduceByKey(lambda x,y: x + y)     # Group by value and sum the 1's\n",
    ")\n",
    "not_numbers_hist.count()                # Find out how many classes there are"
   ]
  },
  {
   "cell_type": "code",
   "execution_count": 9,
   "metadata": {
    "collapsed": false
   },
   "outputs": [
    {
     "data": {
      "text/plain": [
       "[(u'FizzBuzz', 13333), (u'Fizz', 53333), (u'Buzz', 26667)]"
      ]
     },
     "execution_count": 9,
     "metadata": {},
     "output_type": "execute_result"
    }
   ],
   "source": [
    "not_numbers_hist.collect()              # Since there are only three classes, it's safe to collect"
   ]
  },
  {
   "cell_type": "markdown",
   "metadata": {},
   "source": [
    "## 5 and 3 look important\n",
    "In the sample above with all the fizzes and buzzes, the apparent situation is that all input numbers that results in a text label are divisible by 3 or 5. We will try incorporate this idea into the model that we train, by performing feature engineering: we create derived features from the original input feature. In this case, we will add a boolean feature that is True when the input is divisible by 3 and False otherwise. We do the same for 5.\n",
    "\n",
    "Note that at this point we do not verify whether our assumption about 3 and 5 are completely and always correct. Instead, we will just train the model with it and look at the evaluation results. If there is a relation as we assumed, the model will learn about it and the evaluation will show a low error value; otherwise, it's back to the drawing board."
   ]
  },
  {
   "cell_type": "code",
   "execution_count": 10,
   "metadata": {
    "collapsed": false
   },
   "outputs": [],
   "source": [
    "# We create a DataFrame from a sample of the RDD of not_numbers\n",
    "not_number_frame = pd.DataFrame(\n",
    "    not_numbers\n",
    "    .sample(False, 0.01, 0)                # 1% sample\n",
    "    .map(lambda (n, fb): {                 # Turn into a collection of dict's\n",
    "        'n': n,\n",
    "        'fizzbuzz': fb,\n",
    "        'by_three': n % 3 == 0,            # Include engineered feature for divisibility by three\n",
    "        'by_five': n % 5 == 0              # Include engineered feature for divisibility by five\n",
    "        }).collect()                       # Collect the sample locally into the DataFrame\n",
    ")"
   ]
  },
  {
   "cell_type": "code",
   "execution_count": 11,
   "metadata": {
    "collapsed": false
   },
   "outputs": [
    {
     "data": {
      "text/html": [
       "<div style=\"max-height:1000px;max-width:1500px;overflow:auto;\">\n",
       "<table border=\"1\" class=\"dataframe\">\n",
       "  <thead>\n",
       "    <tr style=\"text-align: right;\">\n",
       "      <th></th>\n",
       "      <th>by_five</th>\n",
       "      <th>by_three</th>\n",
       "      <th>fizzbuzz</th>\n",
       "      <th>n</th>\n",
       "    </tr>\n",
       "  </thead>\n",
       "  <tbody>\n",
       "    <tr>\n",
       "      <th>0</th>\n",
       "      <td> False</td>\n",
       "      <td>  True</td>\n",
       "      <td>     Fizz</td>\n",
       "      <td>  66</td>\n",
       "    </tr>\n",
       "    <tr>\n",
       "      <th>1</th>\n",
       "      <td>  True</td>\n",
       "      <td> False</td>\n",
       "      <td>     Buzz</td>\n",
       "      <td> 380</td>\n",
       "    </tr>\n",
       "    <tr>\n",
       "      <th>2</th>\n",
       "      <td> False</td>\n",
       "      <td>  True</td>\n",
       "      <td>     Fizz</td>\n",
       "      <td> 462</td>\n",
       "    </tr>\n",
       "    <tr>\n",
       "      <th>3</th>\n",
       "      <td>  True</td>\n",
       "      <td> False</td>\n",
       "      <td>     Buzz</td>\n",
       "      <td> 550</td>\n",
       "    </tr>\n",
       "    <tr>\n",
       "      <th>4</th>\n",
       "      <td>  True</td>\n",
       "      <td>  True</td>\n",
       "      <td> FizzBuzz</td>\n",
       "      <td> 645</td>\n",
       "    </tr>\n",
       "  </tbody>\n",
       "</table>\n",
       "</div>"
      ],
      "text/plain": [
       "  by_five by_three  fizzbuzz    n\n",
       "0   False     True      Fizz   66\n",
       "1    True    False      Buzz  380\n",
       "2   False     True      Fizz  462\n",
       "3    True    False      Buzz  550\n",
       "4    True     True  FizzBuzz  645"
      ]
     },
     "execution_count": 11,
     "metadata": {},
     "output_type": "execute_result"
    }
   ],
   "source": [
    "# Let's have a look\n",
    "not_number_frame.head()"
   ]
  },
  {
   "cell_type": "code",
   "execution_count": 12,
   "metadata": {
    "collapsed": false,
    "scrolled": true
   },
   "outputs": [
    {
     "data": {
      "text/plain": [
       "<matplotlib.axes._subplots.AxesSubplot at 0x10b4a3a50>"
      ]
     },
     "execution_count": 12,
     "metadata": {},
     "output_type": "execute_result"
    },
    {
     "data": {
      "image/png": "[encoded data removed]",
      "text/plain": [
       "<matplotlib.figure.Figure at 0x10b491e10>"
      ]
     },
     "metadata": {},
     "output_type": "display_data"
    }
   ],
   "source": [
    "# What is the relation between divisibility by three and the outcome (in case of not a number)\n",
    "sns.barplot(not_number_frame.fizzbuzz, not_number_frame.by_three)"
   ]
  },
  {
   "cell_type": "code",
   "execution_count": 13,
   "metadata": {
    "collapsed": false
   },
   "outputs": [
    {
     "data": {
      "text/plain": [
       "<matplotlib.axes._subplots.AxesSubplot at 0x10b4f3d90>"
      ]
     },
     "execution_count": 13,
     "metadata": {},
     "output_type": "execute_result"
    },
    {
     "data": {
      "image/png": "[encoded data removed]",
      "text/plain": [
       "<matplotlib.figure.Figure at 0x108b8d8d0>"
      ]
     },
     "metadata": {},
     "output_type": "display_data"
    }
   ],
   "source": [
    "# Same for five\n",
    "sns.barplot(not_number_frame.fizzbuzz, not_number_frame.by_five)"
   ]
  },
  {
   "cell_type": "code",
   "execution_count": 14,
   "metadata": {
    "collapsed": false
   },
   "outputs": [
    {
     "data": {
      "text/plain": [
       "<matplotlib.axes._subplots.AxesSubplot at 0x10b60d3d0>"
      ]
     },
     "execution_count": 14,
     "metadata": {},
     "output_type": "execute_result"
    },
    {
     "data": {
      "image/png": "[encoded data removed]",
      "text/plain": [
       "<matplotlib.figure.Figure at 0x10b604a10>"
      ]
     },
     "metadata": {},
     "output_type": "display_data"
    }
   ],
   "source": [
    "# Same for divisibility by both\n",
    "not_number_frame['by_both'] = not_number_frame.by_three & not_number_frame.by_five\n",
    "sns.barplot(not_number_frame.fizzbuzz, not_number_frame.by_both)"
   ]
  },
  {
   "cell_type": "markdown",
   "metadata": {},
   "source": [
    "## Decisions and numbers\n",
    "The three plot above show the normalized frequency of the label outputs (Fizz, Buzz or FizzBuzz) given the divisibility by either 3, 5 or both. What we see is that for different truths for divisibility by 3 and 5, there's a hard decision boundary between different label values. This type of realtion should be effectively learned by decision trees.\n",
    "\n",
    "What remains is the part of the data where the result is not a label, but a numeric value. Let's further investigate."
   ]
  },
  {
   "cell_type": "code",
   "execution_count": 15,
   "metadata": {
    "collapsed": false
   },
   "outputs": [
    {
     "data": {
      "text/html": [
       "<div style=\"max-height:1000px;max-width:1500px;overflow:auto;\">\n",
       "<table border=\"1\" class=\"dataframe\">\n",
       "  <thead>\n",
       "    <tr style=\"text-align: right;\">\n",
       "      <th></th>\n",
       "      <th>n</th>\n",
       "      <th>fizzbuzz</th>\n",
       "    </tr>\n",
       "  </thead>\n",
       "  <tbody>\n",
       "    <tr>\n",
       "      <th>0</th>\n",
       "      <td>   58</td>\n",
       "      <td>   58</td>\n",
       "    </tr>\n",
       "    <tr>\n",
       "      <th>1</th>\n",
       "      <td>  331</td>\n",
       "      <td>  331</td>\n",
       "    </tr>\n",
       "    <tr>\n",
       "      <th>2</th>\n",
       "      <td>  404</td>\n",
       "      <td>  404</td>\n",
       "    </tr>\n",
       "    <tr>\n",
       "      <th>3</th>\n",
       "      <td>  481</td>\n",
       "      <td>  481</td>\n",
       "    </tr>\n",
       "    <tr>\n",
       "      <th>4</th>\n",
       "      <td>  563</td>\n",
       "      <td>  563</td>\n",
       "    </tr>\n",
       "    <tr>\n",
       "      <th>5</th>\n",
       "      <td>  736</td>\n",
       "      <td>  736</td>\n",
       "    </tr>\n",
       "    <tr>\n",
       "      <th>6</th>\n",
       "      <td>  923</td>\n",
       "      <td>  923</td>\n",
       "    </tr>\n",
       "    <tr>\n",
       "      <th>7</th>\n",
       "      <td>  943</td>\n",
       "      <td>  943</td>\n",
       "    </tr>\n",
       "    <tr>\n",
       "      <th>8</th>\n",
       "      <td> 1076</td>\n",
       "      <td> 1076</td>\n",
       "    </tr>\n",
       "    <tr>\n",
       "      <th>9</th>\n",
       "      <td> 1081</td>\n",
       "      <td> 1081</td>\n",
       "    </tr>\n",
       "  </tbody>\n",
       "</table>\n",
       "</div>"
      ],
      "text/plain": [
       "      n  fizzbuzz\n",
       "0    58        58\n",
       "1   331       331\n",
       "2   404       404\n",
       "3   481       481\n",
       "4   563       563\n",
       "5   736       736\n",
       "6   923       923\n",
       "7   943       943\n",
       "8  1076      1076\n",
       "9  1081      1081"
      ]
     },
     "execution_count": 15,
     "metadata": {},
     "output_type": "execute_result"
    }
   ],
   "source": [
    "numbers = (\n",
    "    rdd\n",
    "    .filter(lambda (n, fb): is_int(fb))            # Filter only numbers (int's)\n",
    "    .map(lambda (n, fb): (n, int(fb)))             # Parse the string into an int if it is one\n",
    ")\n",
    "\n",
    "numbers_frame = pd.DataFrame(\n",
    "    numbers.sample(False, 0.01, 0).collect(),      # Take a 1% sample\n",
    "    columns=['n', 'fizzbuzz'])                     # Name the columns\n",
    "\n",
    "numbers_frame.head(10)"
   ]
  },
  {
   "cell_type": "code",
   "execution_count": 16,
   "metadata": {
    "collapsed": false
   },
   "outputs": [
    {
     "data": {
      "text/plain": [
       "<matplotlib.axes._subplots.AxesSubplot at 0x10b6dfed0>"
      ]
     },
     "execution_count": 16,
     "metadata": {},
     "output_type": "execute_result"
    },
    {
     "data": {
      "image/png": "[encoded data removed]",
      "text/plain": [
       "<matplotlib.figure.Figure at 0x10b615e90>"
      ]
     },
     "metadata": {},
     "output_type": "display_data"
    }
   ],
   "source": [
    "# Let's look at the relation between n and the outcome\n",
    "numbers_frame.plot(kind='scatter', x='n', y='fizzbuzz')"
   ]
  },
  {
   "cell_type": "markdown",
   "metadata": {},
   "source": [
    "## Linearity\n",
    "The relation between the input and output in the case of numbers appears perfectly linear (who would have thought?). This part of the data is probably better described by a regression model.\n",
    "\n",
    "## Modelling\n",
    "We conclude from the above analysis, that we can handle this prediction problem with a combination of two models using the following approach.\n",
    "\n",
    "For training:\n",
    "- Train a classification model (based on decision trees) on the part of the data with non-numeric output.\n",
    "- Train a regression model on the part of the data with numeric output.\n",
    "\n",
    "For prediction:\n",
    "- Make a prediction for the type of output (a textual label or numeric) using the classification model.\n",
    "- If the classification model predicts a label, predict that.\n",
    "- If the classification model predicts a numeric output, use the regression model to predict the value.\n",
    "\n",
    "We will train both models and evaluate both models using a train/test split of the data."
   ]
  },
  {
   "cell_type": "markdown",
   "metadata": {},
   "source": [
    "### Classification\n",
    "We start out with the classification model. Here we use a Random Forest classification model."
   ]
  },
  {
   "cell_type": "code",
   "execution_count": 17,
   "metadata": {
    "collapsed": false
   },
   "outputs": [],
   "source": [
    "def fizzbuzz_type(fb):\n",
    "    # Spark MLLib requires to encode everything into floats, even classes\n",
    "    return {\n",
    "        'Fizz': 1.0,\n",
    "        'Buzz': 2.0,\n",
    "        'FizzBuzz': 3.0\n",
    "    }.get(fb, 0.0)\n",
    "\n",
    "classifier_points = rdd.map(lambda (n, fb): LabeledPoint(fizzbuzz_type(fb), [n, n % 3 == 0, n % 5 == 0]))\n",
    "classifier_points_train, classifier_points_test = classifier_points.randomSplit([0.6, 0.4])"
   ]
  },
  {
   "cell_type": "code",
   "execution_count": 18,
   "metadata": {
    "collapsed": false
   },
   "outputs": [
    {
     "data": {
      "text/plain": [
       "TreeEnsembleModel classifier with 3 trees"
      ]
     },
     "execution_count": 18,
     "metadata": {},
     "output_type": "execute_result"
    }
   ],
   "source": [
    "classifier_model = RandomForest.trainClassifier(\n",
    "    classifier_points_train,                  # Use only the training part of the data\n",
    "    numClasses=4,                             # We can predict one of four classes\n",
    "    categoricalFeaturesInfo={1: 2, 2: 2},     # RandomForest needs to know which features are categorical\n",
    "    numTrees=3,\n",
    "    featureSubsetStrategy=\"auto\",\n",
    "    impurity='gini',\n",
    "    maxDepth=4,\n",
    "    maxBins=32)\n",
    "\n",
    "classifier_model"
   ]
  },
  {
   "cell_type": "markdown",
   "metadata": {},
   "source": [
    "### Regression model\n",
    "For the linear regression we use a linear regression with SGD."
   ]
  },
  {
   "cell_type": "code",
   "execution_count": 19,
   "metadata": {
    "collapsed": true
   },
   "outputs": [],
   "source": [
    "regression_points = numbers.map(lambda (n, fb): LabeledPoint(fb, [n]))\n",
    "regression_points_train, regression_points_test = regression_points.randomSplit([0.6, 0.4])"
   ]
  },
  {
   "cell_type": "code",
   "execution_count": 20,
   "metadata": {
    "collapsed": false
   },
   "outputs": [
    {
     "data": {
      "text/plain": [
       "(weights=[1.0], intercept=0.0)"
      ]
     },
     "execution_count": 20,
     "metadata": {},
     "output_type": "execute_result"
    }
   ],
   "source": [
    "regression_model = LinearRegressionWithSGD.train(\n",
    "    regression_points_train,   # Use only the training part of the data\n",
    "    iterations=100,\n",
    "    step=1.0,\n",
    "    initialWeights=[1.0]       # Little cheating here, but otherwise it won't converge on perfectly linear data.\n",
    ")\n",
    "\n",
    "regression_model"
   ]
  },
  {
   "cell_type": "markdown",
   "metadata": {},
   "source": [
    "### Model evaluation\n",
    "We will evaluate the two trained models separately. The final model should normally also be evaluated for fitness, but this is left as an exercise to the reader.\n",
    "\n",
    "We will use the [Mean Squared Error](https://en.wikipedia.org/wiki/Mean_squared_error) as evaluation metric. A perfect prediction would yield an error of 0.0."
   ]
  },
  {
   "cell_type": "code",
   "execution_count": 21,
   "metadata": {
    "collapsed": true
   },
   "outputs": [],
   "source": [
    "# Calculate the Mean Squared Error between an RDD of predictions and an RDD of LabeledPoints with actuals.\n",
    "def MSE(predictions, test_data):\n",
    "    values_and_preds = test_data.map(lambda p: p.label).zip(predictions)\n",
    "    return values_and_preds.map(lambda (v, p): (v - p)**2).reduce(lambda x, y: x + y) / values_and_preds.count()"
   ]
  },
  {
   "cell_type": "markdown",
   "metadata": {},
   "source": [
    "### Classification MSE"
   ]
  },
  {
   "cell_type": "code",
   "execution_count": 22,
   "metadata": {
    "collapsed": false
   },
   "outputs": [
    {
     "data": {
      "text/plain": [
       "0.0"
      ]
     },
     "execution_count": 22,
     "metadata": {},
     "output_type": "execute_result"
    }
   ],
   "source": [
    "MSE(\n",
    "    classifier_model.predict(\n",
    "        classifier_points_test.map(lambda p: p.features)),\n",
    "    classifier_points_test)"
   ]
  },
  {
   "cell_type": "markdown",
   "metadata": {},
   "source": [
    "### Regression MSE"
   ]
  },
  {
   "cell_type": "code",
   "execution_count": 23,
   "metadata": {
    "collapsed": false
   },
   "outputs": [
    {
     "data": {
      "text/plain": [
       "0.0"
      ]
     },
     "execution_count": 23,
     "metadata": {},
     "output_type": "execute_result"
    }
   ],
   "source": [
    "MSE(\n",
    "    regression_points_test.map(lambda p: p.features)\n",
    "                          .map(regression_model.predict),\n",
    "    regression_points_test)"
   ]
  },
  {
   "cell_type": "markdown",
   "metadata": {},
   "source": [
    "## Prediction function\n",
    "Here we combine the two models as described."
   ]
  },
  {
   "cell_type": "code",
   "execution_count": 24,
   "metadata": {
    "collapsed": false
   },
   "outputs": [],
   "source": [
    "def predict(n):\n",
    "    classifier_features = [n, n % 3 == 0, n % 5 == 0]   # Features required by the classifier\n",
    "    regression_features = [x]                           # Features required by the regression\n",
    "    \n",
    "    # This is required to translate the floating point labels back to the original,\n",
    "    # since Spark requires floating point values as class labels.\n",
    "    classes = {\n",
    "        1.0: 'Fizz',\n",
    "        2.0: 'Buzz',\n",
    "        3.0: 'FizzBuzz'\n",
    "    }\n",
    "    \n",
    "    return classes.get(\n",
    "        classifier_model.predict(classifier_features),  # If the classifier gave us a textual output, use that\n",
    "        regression_model.predict(regression_features))  # Otherwise, use the regression model's prediction"
   ]
  },
  {
   "cell_type": "markdown",
   "metadata": {},
   "source": [
    "## Final predictions\n",
    "Congratulations! We've machine learned FizzBuzz!"
   ]
  },
  {
   "cell_type": "code",
   "execution_count": 25,
   "metadata": {
    "collapsed": false
   },
   "outputs": [
    {
     "data": {
      "text/plain": [
       "[1.0,\n",
       " 2.0,\n",
       " 'Fizz',\n",
       " 4.0,\n",
       " 'Buzz',\n",
       " 'Fizz',\n",
       " 7.0,\n",
       " 8.0,\n",
       " 'Fizz',\n",
       " 'Buzz',\n",
       " 11.0,\n",
       " 'Fizz',\n",
       " 13.0,\n",
       " 14.0,\n",
       " 'FizzBuzz',\n",
       " 16.0,\n",
       " 17.0,\n",
       " 'Fizz',\n",
       " 19.0,\n",
       " 'Buzz',\n",
       " 'Fizz']"
      ]
     },
     "execution_count": 25,
     "metadata": {},
     "output_type": "execute_result"
    }
   ],
   "source": [
    "[ predict(x) for x in range(1,22) ]"
   ]
  }
 ],
 "metadata": {
  "kernelspec": {
   "display_name": "Python 2",
   "language": "python",
   "name": "python2"
  },
  "language_info": {
   "codemirror_mode": {
    "name": "ipython",
    "version": 2
   },
   "file_extension": ".py",
   "mimetype": "text/x-python",
   "name": "python",
   "nbconvert_exporter": "python",
   "pygments_lexer": "ipython2",
   "version": "2.7.9"
  }
 },
 "nbformat": 4,
 "nbformat_minor": 0
}
