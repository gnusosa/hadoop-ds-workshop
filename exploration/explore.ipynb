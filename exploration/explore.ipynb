{
 "cells": [
  {
   "cell_type": "code",
   "execution_count": 13,
   "metadata": {
    "collapsed": false
   },
   "outputs": [
    {
     "name": "stdout",
     "output_type": "stream",
     "text": [
      "Populating the interactive namespace from numpy and matplotlib\n"
     ]
    },
    {
     "data": {
      "text/plain": [
       "u'1.3.1'"
      ]
     },
     "execution_count": 13,
     "metadata": {},
     "output_type": "execute_result"
    }
   ],
   "source": [
    "%pylab inline\n",
    "sc.version"
   ]
  },
  {
   "cell_type": "code",
   "execution_count": 1,
   "metadata": {
    "collapsed": true
   },
   "outputs": [],
   "source": [
    "from xmltodict import parse as parse_xml\n",
    "from pyspark.sql import SQLContext, Row\n",
    "from dateutil.parser import parse as parse_date\n",
    "import re\n",
    "import pandas as pd\n",
    "import matplotlib.pyplot as plt"
   ]
  },
  {
   "cell_type": "code",
   "execution_count": 18,
   "metadata": {
    "collapsed": false,
    "scrolled": true
   },
   "outputs": [],
   "source": [
    "def xml_to_rdd(file_name):\n",
    "    def infer_type(input):\n",
    "        int_re = re.compile('^[\\-]?[0-9]+$')\n",
    "        date_re = re.compile('^[0-9]{4}-[0-9]{2}-[0-9]{2}T[0-9]{2}:[0-9]{2}:[0-9]{2}.[0-9]{3}$')\n",
    "        int_type = (int_re.match, int)\n",
    "        date_type = (date_re.match, parse_date)\n",
    "        default_type = (lambda x: True, lambda x: x)\n",
    "\n",
    "        for f, c in [int_type, date_type, default_type]:\n",
    "            if f(input):\n",
    "                return c(input)\n",
    "\n",
    "    def clean_xml_dict(xd):\n",
    "        return {\n",
    "                key[1:]: infer_type(value.strip())\n",
    "                for key, value in xd.items() if key.startswith('@')\n",
    "            }\n",
    "\n",
    "    return sc.textFile(file_name)\\\n",
    "    .filter(lambda line: line.strip().startswith('<row'))\\\n",
    "    .map(lambda line: parse_xml(line))\\\n",
    "    .map(lambda xml_dict: xml_dict['row'])\\\n",
    "    .map(clean_xml_dict)\n",
    "\n",
    "def extract_fields(row, wanted):\n",
    "    return {\n",
    "        k: row.get(k, None)\n",
    "        for k in wanted\n",
    "    }\n",
    "\n",
    "def rdd_to_df(rdd, columns, sql_context):\n",
    "    rows = rdd.map(lambda r: extract_fields(r, columns))\\\n",
    "    .map(lambda r: Row(**r))\n",
    "    \n",
    "    return sql_context.createDataFrame(rows)\n",
    "\n",
    "data_folder = '/Users/ivoeverts/data/goto2015/se/'"
   ]
  },
  {
   "cell_type": "code",
   "execution_count": 3,
   "metadata": {
    "collapsed": true
   },
   "outputs": [],
   "source": [
    "sql_context = SQLContext(sc)"
   ]
  },
  {
   "cell_type": "code",
   "execution_count": 17,
   "metadata": {
    "collapsed": false
   },
   "outputs": [
    {
     "data": {
      "text/plain": [
       "[{u'AcceptedAnswerId': 393,\n",
       "  u'AnswerCount': 4,\n",
       "  u'Body': u\"<p>My fianc\\xe9e and I are looking for a good Caribbean cruise in October and were wondering which islands are best to see and which Cruise line to take?</p>\\n\\n<p>It seems like a lot of the cruises don't run in this month due to Hurricane season so I'm looking for other good options.</p>\\n\\n<p><strong>EDIT</strong> We'll be travelling in 2012.</p>\",\n",
       "  u'ClosedDate': datetime.datetime(2013, 2, 25, 23, 52, 47, 953000),\n",
       "  u'CommentCount': 4,\n",
       "  u'CreationDate': datetime.datetime(2011, 6, 21, 20, 19, 34, 730000),\n",
       "  u'FavoriteCount': 1,\n",
       "  u'Id': 1,\n",
       "  u'LastActivityDate': datetime.datetime(2012, 5, 24, 14, 52, 14, 760000),\n",
       "  u'LastEditDate': datetime.datetime(2011, 12, 28, 21, 36, 43, 910000),\n",
       "  u'LastEditorUserId': 101,\n",
       "  u'OwnerUserId': 9,\n",
       "  u'PostTypeId': 1,\n",
       "  u'Score': 8,\n",
       "  u'Tags': u'<caribbean><cruising><vacation>',\n",
       "  u'Title': u'What are some Caribbean cruises for October?',\n",
       "  u'ViewCount': 309}]"
      ]
     },
     "execution_count": 17,
     "metadata": {},
     "output_type": "execute_result"
    }
   ],
   "source": [
    "posts = xml_to_rdd(data_folder + 'Posts.xml')\n",
    "posts.take(1)"
   ]
  },
  {
   "cell_type": "code",
   "execution_count": 5,
   "metadata": {
    "collapsed": false
   },
   "outputs": [
    {
     "name": "stdout",
     "output_type": "stream",
     "text": [
      "AnswerCount CommentCount FavoriteCount Id OwnerUserId PostTypeId Score Title                ViewCount\n",
      "4           4            1             1  9           1          8     What are some Car... 309      \n",
      "7           4            4             2  13          1          23    How can I find a ... 773      \n",
      "0           2            0             3  9           2          10    null                 0        \n",
      "1           1            0             4  24          1          8     Does Singapore Ai... 209      \n",
      "5           0            2             5  13          1          11    What is the easie... 287      \n",
      "6           8            16            6  19          1          64    How can I visit A... 2281     \n",
      "3           2            0             8  26          1          9     Best way to get f... 5205     \n",
      "4           1            7             9  23          1          12    What are must-vis... 1162     \n",
      "19          11           22            10 10          1          86    When traveling to... 6401     \n",
      "3           1            2             11 30          1          21    What is the best ... 974      \n",
      "0           1            0             12 9           2          40    null                 0        \n",
      "2           4            0             13 22          1          7     Where can I find ... 294      \n",
      "3           3            0             14 23          1          7     Is it advisable f... 268      \n",
      "2           2            2             15 27          1          9     What are some of ... 186      \n",
      "11          1            27            16 19          1          52    Is there a good w... 1976     \n",
      "0           10           0             17 26          2          74    null                 0        \n",
      "0           1            0             18 35          2          15    null                 0        \n",
      "0           3            0             19 33          2          10    null                 0        \n",
      "0           3            0             20 30          2          44    null                 0        \n",
      "0           1            0             22 26          2          11    null                 0        \n"
     ]
    }
   ],
   "source": [
    "posts_df = rdd_to_df(posts,\n",
    "               ['Id', 'Score', 'ViewCount', 'FavoriteCount', 'PostTypeId',\n",
    "                'AnswerCount', 'CommentCount', 'Title', 'OwnerUserId'],\n",
    "               sql_context).na.fill(0)\n",
    "posts_df.show()"
   ]
  },
  {
   "cell_type": "code",
   "execution_count": 6,
   "metadata": {
    "collapsed": false
   },
   "outputs": [
    {
     "name": "stdout",
     "output_type": "stream",
     "text": [
      "AnswerCount CommentCount FavoriteCount Id    OwnerUserId PostTypeId Score Title                ViewCount\n",
      "8           42           40            24540 11743       1          151   How to intentiona... 52167    \n",
      "3           30           3             23090 9824        1          14    UK tourist visa r... 2780     \n",
      "0           27           0             18396 1372        2          27    null                 0        \n",
      "10          26           49            3080  140         1          196   OK we're all adul... 26765    \n",
      "0           26           0             3083  88          2          135   null                 0        \n",
      "1           26           1             27632 13280       1          6     Is there a docume... 233      \n",
      "1           24           1             26469 13173       1          1     Overstaying stude... 412      \n",
      "1           23           0             35002 140         1          5     Can e-cigarettes ... 385      \n",
      "5           23           2             17641 2523        1          14    OK we are all adu... 1135     \n",
      "3           23           1             34980 19137       1          7     Is it possible to... 184      \n",
      "0           23           0             7664  1893        2          30    null                 0        \n",
      "10          22           8             26780 13474       1          14    Is there a flight... 2190     \n",
      "1           22           1             22413 1810        1          0     How can I convert... 368      \n",
      "1           22           0             35913 19745       1          4     Flying to Germany... 110      \n",
      "1           21           0             25730 12783       1          0     Is it legal to as... 139      \n",
      "9           21           2             7862  1605        1          9     What unusual mean... 661      \n",
      "0           21           0             22440 1810        1          5     How often do busi... 246      \n",
      "1           21           0             14431 1309        1          0     Where can I go by... 136      \n",
      "0           21           0             30425 12705       2          31    null                 0        \n",
      "1           21           0             34882 19089       1          3     Disability Laws B... 89       \n"
     ]
    }
   ],
   "source": [
    "posts_df.orderBy(posts_df.CommentCount.desc()).show()"
   ]
  },
  {
   "cell_type": "code",
   "execution_count": 11,
   "metadata": {
    "collapsed": false
   },
   "outputs": [],
   "source": [
    "posts_df_pd = posts_df.sample(False, 0.01).toPandas()"
   ]
  },
  {
   "cell_type": "code",
   "execution_count": 15,
   "metadata": {
    "collapsed": false
   },
   "outputs": [
    {
     "data": {
      "text/plain": [
       "<matplotlib.axes._subplots.AxesSubplot at 0x10dfa2150>"
      ]
     },
     "execution_count": 15,
     "metadata": {},
     "output_type": "execute_result"
    },
    {
     "data": {
      "image/png": "[encoded data removed]",
      "text/plain": [
       "<matplotlib.figure.Figure at 0x11347a0d0>"
      ]
     },
     "metadata": {},
     "output_type": "display_data"
    }
   ],
   "source": [
    "posts_df_pd[['CommentCount', 'ViewCount']].plot(kind='scatter', x='ViewCount', y='CommentCount')"
   ]
  },
  {
   "cell_type": "code",
   "execution_count": 14,
   "metadata": {
    "collapsed": false
   },
   "outputs": [
    {
     "data": {
      "text/plain": [
       "<matplotlib.axes._subplots.AxesSubplot at 0x10df8ab10>"
      ]
     },
     "execution_count": 14,
     "metadata": {},
     "output_type": "execute_result"
    },
    {
     "data": {
      "image/png": "[encoded data removed]",
      "text/plain": [
       "<matplotlib.figure.Figure at 0x10dfa2090>"
      ]
     },
     "metadata": {},
     "output_type": "display_data"
    }
   ],
   "source": [
    "posts_df_pd['ViewCount'].plot(kind='density')"
   ]
  },
  {
   "cell_type": "code",
   "execution_count": 19,
   "metadata": {
    "collapsed": false
   },
   "outputs": [
    {
     "data": {
      "text/plain": [
       "[{u'AboutMe': u'<p>Hi, I\\'m not really a person.</p>\\n\\n<p>I\\'m a background process that helps keep this site clean!</p>\\n\\n<p>I do things like</p>\\n\\n<ul>\\n<li>Randomly poke old unanswered questions every hour so they get some attention</li>\\n<li>Own community questions and answers so nobody gets unnecessary reputation from them</li>\\n<li>Own downvotes on spam/evil posts that get permanently deleted</li>\\n<li>Own suggested edits from anonymous users</li>\\n<li><a href=\"http://meta.stackexchange.com/a/92006\">Remove abandoned questions</a></li>\\n</ul>',\n",
       "  u'AccountId': -1,\n",
       "  u'CreationDate': datetime.datetime(2011, 6, 21, 15, 16, 44, 253000),\n",
       "  u'DisplayName': u'Community',\n",
       "  u'DownVotes': 2292,\n",
       "  u'Id': -1,\n",
       "  u'LastAccessDate': datetime.datetime(2011, 6, 21, 15, 16, 44, 253000),\n",
       "  u'Location': u'on the server farm',\n",
       "  u'Reputation': 1,\n",
       "  u'UpVotes': 24,\n",
       "  u'Views': 0,\n",
       "  u'WebsiteUrl': u'http://meta.stackexchange.com/'}]"
      ]
     },
     "execution_count": 19,
     "metadata": {},
     "output_type": "execute_result"
    }
   ],
   "source": [
    "users = xml_to_rdd(data_folder + 'Users.xml')\n",
    "users.take(1)"
   ]
  },
  {
   "cell_type": "code",
   "execution_count": 20,
   "metadata": {
    "collapsed": false
   },
   "outputs": [
    {
     "name": "stdout",
     "output_type": "stream",
     "text": [
      "Age  DisplayName      DownVotes Id Location             Reputation UpVotes Views\n",
      "null Community        2292      -1 on the server farm   1          24      0    \n",
      "37   Geoff Dalgas     0         2  Corvallis, OR        101        1       25   \n",
      "29   Nick Craver      0         3  Winston-Salem, NC    101        1       10   \n",
      "28   Emmett           0         4  San Francisco, CA    101        1       6    \n",
      "null Kevin Montrose   0         5  New York City, Ne... 101        0       4    \n",
      "27   Jimmy Sawczuk    0         6  Columbia, SC         101        0       3    \n",
      "29   Seanland         0         8  Ontario, Canada      768        79      15   \n",
      "27   silent1mezzo     7         9  Toronto, Canada      1808       121     29   \n",
      "29   Darren Kopp      0         10 Layton, UT           906        43      31   \n",
      "null user27478        19        11 null                 3607       128     86   \n",
      "33   daybreaker       0         12 Kenner, LA           406        11      6    \n",
      "27   Matthew Read     24        13 Ontario, Canada      1414       61      40   \n",
      "35   chrispt          0         14 Roanoke, VA          101        0       0    \n",
      "null Angela           0         15 Vancouver, Canada    101        0       0    \n",
      "null Jginger          0         16 Montclair, NJ        131        2       3    \n",
      "36   cerealk          0         17 Milan, Italy         101        0       0    \n",
      "null mrigasira        0         18 null                 826        3       24   \n",
      "30   VMAtm            155       19 St. Petersburg, R... 12621      3947    414  \n",
      "30   Rebecca Chernoff 1         20 St Louis, MO         101        7       13   \n",
      "31   SaulBack         0         21 Utah                 101        0       0    \n"
     ]
    }
   ],
   "source": [
    "users_df = rdd_to_df(users,\n",
    "                     ['Id', 'Reputation', 'DisplayName', 'Age', 'Views', 'UpVotes', 'DownVotes', 'Location'],\n",
    "                     sql_context)\n",
    "users_df.show()"
   ]
  },
  {
   "cell_type": "code",
   "execution_count": 21,
   "metadata": {
    "collapsed": false
   },
   "outputs": [],
   "source": [
    "joined = posts_df.filter(posts_df.PostTypeId == 1).join(users_df, posts_df.OwnerUserId == users_df.Id, 'inner')\n",
    "joined_df_pd = joined.select(\n",
    "    'Score',\n",
    "    'Reputation',\n",
    "    'Age',\n",
    "    'UpVotes',\n",
    "    'DownVotes',\n",
    "    'ViewCount',\n",
    "    'CommentCount').sample(False, 0.1).dropna().toPandas()"
   ]
  },
  {
   "cell_type": "code",
   "execution_count": 22,
   "metadata": {
    "collapsed": false
   },
   "outputs": [
    {
     "data": {
      "text/plain": [
       "<matplotlib.axes._subplots.AxesSubplot at 0x113637ad0>"
      ]
     },
     "execution_count": 22,
     "metadata": {},
     "output_type": "execute_result"
    },
    {
     "data": {
      "image/png": "[encoded data removed]",
      "text/plain": [
       "<matplotlib.figure.Figure at 0x10e08d650>"
      ]
     },
     "metadata": {},
     "output_type": "display_data"
    }
   ],
   "source": [
    "joined_df_pd['Reputation'].plot(kind='density')"
   ]
  },
  {
   "cell_type": "code",
   "execution_count": 23,
   "metadata": {
    "collapsed": false
   },
   "outputs": [
    {
     "data": {
      "text/plain": [
       "<matplotlib.axes._subplots.AxesSubplot at 0x113765610>"
      ]
     },
     "execution_count": 23,
     "metadata": {},
     "output_type": "execute_result"
    },
    {
     "data": {
      "image/png": "[encoded data removed]",
      "text/plain": [
       "<matplotlib.figure.Figure at 0x10e08d490>"
      ]
     },
     "metadata": {},
     "output_type": "display_data"
    }
   ],
   "source": [
    "joined_df_pd['Score'].plot(kind='density')"
   ]
  },
  {
   "cell_type": "code",
   "execution_count": 24,
   "metadata": {
    "collapsed": false
   },
   "outputs": [
    {
     "data": {
      "text/plain": [
       "<matplotlib.axes._subplots.AxesSubplot at 0x10e08d5d0>"
      ]
     },
     "execution_count": 24,
     "metadata": {},
     "output_type": "execute_result"
    },
    {
     "data": {
      "image/png": "[encoded data removed]",
      "text/plain": [
       "<matplotlib.figure.Figure at 0x1138a7350>"
      ]
     },
     "metadata": {},
     "output_type": "display_data"
    }
   ],
   "source": [
    "joined_df_pd.plot(kind='scatter', x='Score', y='Reputation')"
   ]
  },
  {
   "cell_type": "code",
   "execution_count": null,
   "metadata": {
    "collapsed": true
   },
   "outputs": [],
   "source": []
  }
 ],
 "metadata": {
  "kernelspec": {
   "display_name": "Python 2",
   "language": "python",
   "name": "python2"
  },
  "language_info": {
   "codemirror_mode": {
    "name": "ipython",
    "version": 2
   },
   "file_extension": ".py",
   "mimetype": "text/x-python",
   "name": "python",
   "nbconvert_exporter": "python",
   "pygments_lexer": "ipython2",
   "version": "2.7.8"
  }
 },
 "nbformat": 4,
 "nbformat_minor": 0
}
