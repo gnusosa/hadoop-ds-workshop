{
 "cells": [
  {
   "cell_type": "code",
   "execution_count": 24,
   "metadata": {
    "collapsed": false
   },
   "outputs": [
    {
     "name": "stdout",
     "output_type": "stream",
     "text": [
      "Populating the interactive namespace from numpy and matplotlib\n"
     ]
    },
    {
     "name": "stderr",
     "output_type": "stream",
     "text": [
      "WARNING: pylab import has clobbered these variables: ['datetime']\n",
      "`%matplotlib` prevents importing * from pylab and numpy\n"
     ]
    },
    {
     "data": {
      "text/plain": [
       "u'1.3.1'"
      ]
     },
     "execution_count": 24,
     "metadata": {},
     "output_type": "execute_result"
    }
   ],
   "source": [
    "%pylab inline\n",
    "sc.version"
   ]
  },
  {
   "cell_type": "code",
   "execution_count": 28,
   "metadata": {
    "collapsed": true
   },
   "outputs": [],
   "source": [
    "from pylab import rcParams\n",
    "rcParams['figure.figsize'] = 14, 6"
   ]
  },
  {
   "cell_type": "code",
   "execution_count": 26,
   "metadata": {
    "collapsed": false
   },
   "outputs": [],
   "source": [
    "from xmltodict import parse as parse_xml\n",
    "from dateutil.parser import parse as parse_date\n",
    "import re\n",
    "from datetime import datetime\n",
    "from collections import Counter\n",
    "from os.path import join as path_join\n",
    "\n",
    "import pandas as pd\n",
    "import matplotlib.pyplot as plt\n",
    "import seaborn as sns"
   ]
  },
  {
   "cell_type": "code",
   "execution_count": 2,
   "metadata": {
    "collapsed": true
   },
   "outputs": [],
   "source": [
    "#DATA_FOLDER = '/Users/friso/Downloads/se/'\n",
    "DATA_FOLDER = '/Users/ivoeverts/data/goto2015/se/'\n",
    "LEARN_PERIOD = 7\n",
    "PREDICT_PERIOD = 28"
   ]
  },
  {
   "cell_type": "code",
   "execution_count": 5,
   "metadata": {
    "collapsed": true
   },
   "outputs": [],
   "source": [
    "def xml_to_rdd(file_name):\n",
    "    def infer_type(input):\n",
    "        int_re = re.compile('^[\\-]?[0-9]+$')\n",
    "        date_re = re.compile('^[0-9]{4}-[0-9]{2}-[0-9]{2}T[0-9]{2}:[0-9]{2}:[0-9]{2}.[0-9]{3}$')\n",
    "        int_type = (int_re.match, int)\n",
    "        date_type = (date_re.match, parse_date)\n",
    "        default_type = (lambda x: True, lambda x: x)\n",
    "\n",
    "        for f, c in [int_type, date_type, default_type]:\n",
    "            if f(input):\n",
    "                return c(input)\n",
    "\n",
    "    def clean_xml_dict(xd):\n",
    "        return {\n",
    "                key[1:]: infer_type(value.strip())\n",
    "                for key, value in xd.items() if key.startswith('@')\n",
    "            }\n",
    "\n",
    "    return sc.textFile(file_name)\\\n",
    "    .filter(lambda line: line.strip().startswith('<row'))\\\n",
    "    .map(lambda line: parse_xml(line))\\\n",
    "    .map(lambda xml_dict: xml_dict['row'])\\\n",
    "    .map(clean_xml_dict)\n",
    "\n",
    "def add_to_dict(input, key, value):\n",
    "    input[key] = value\n",
    "    return input"
   ]
  },
  {
   "cell_type": "code",
   "execution_count": 6,
   "metadata": {
    "collapsed": false
   },
   "outputs": [
    {
     "data": {
      "text/plain": [
       "[{u'AcceptedAnswerId': 393,\n",
       "  u'AnswerCount': 4,\n",
       "  u'Body': u\"<p>My fianc\\xe9e and I are looking for a good Caribbean cruise in October and were wondering which islands are best to see and which Cruise line to take?</p>\\n\\n<p>It seems like a lot of the cruises don't run in this month due to Hurricane season so I'm looking for other good options.</p>\\n\\n<p><strong>EDIT</strong> We'll be travelling in 2012.</p>\",\n",
       "  u'ClosedDate': datetime.datetime(2013, 2, 25, 23, 52, 47, 953000),\n",
       "  u'CommentCount': 4,\n",
       "  u'CreationDate': datetime.datetime(2011, 6, 21, 20, 19, 34, 730000),\n",
       "  u'FavoriteCount': 1,\n",
       "  u'Id': 1,\n",
       "  u'LastActivityDate': datetime.datetime(2012, 5, 24, 14, 52, 14, 760000),\n",
       "  u'LastEditDate': datetime.datetime(2011, 12, 28, 21, 36, 43, 910000),\n",
       "  u'LastEditorUserId': 101,\n",
       "  u'OwnerUserId': 9,\n",
       "  u'PostTypeId': 1,\n",
       "  u'Score': 8,\n",
       "  u'Tags': u'<caribbean><cruising><vacation>',\n",
       "  u'Title': u'What are some Caribbean cruises for October?',\n",
       "  u'ViewCount': 309}]"
      ]
     },
     "execution_count": 6,
     "metadata": {},
     "output_type": "execute_result"
    }
   ],
   "source": [
    "posts = xml_to_rdd(path_join(DATA_FOLDER, 'Posts.xml'))\n",
    "posts.take(1)"
   ]
  },
  {
   "cell_type": "code",
   "execution_count": 7,
   "metadata": {
    "collapsed": false
   },
   "outputs": [
    {
     "data": {
      "text/plain": [
       "[{u'CreationDate': datetime.datetime(2011, 6, 21, 0, 0),\n",
       "  u'Id': 1,\n",
       "  u'PostId': 1,\n",
       "  u'VoteTypeId': 2}]"
      ]
     },
     "execution_count": 7,
     "metadata": {},
     "output_type": "execute_result"
    }
   ],
   "source": [
    "votes = xml_to_rdd(path_join(DATA_FOLDER, 'Votes.xml'))\n",
    "votes.take(1)"
   ]
  },
  {
   "cell_type": "code",
   "execution_count": 10,
   "metadata": {
    "collapsed": false
   },
   "outputs": [
    {
     "name": "stdout",
     "output_type": "stream",
     "text": [
      "2014-09-14 00:11:54.480000\n"
     ]
    }
   ],
   "source": [
    "max_datetime = posts.map(lambda p: p['CreationDate']).max()\n",
    "print max_datetime"
   ]
  },
  {
   "cell_type": "code",
   "execution_count": 11,
   "metadata": {
    "collapsed": false
   },
   "outputs": [
    {
     "data": {
      "text/plain": [
       "[(4,\n",
       "  ({u'AnswerCount': 1,\n",
       "    u'Body': u\"<p>Singapore Airlines has an all-business class flight from EWR-SIN (Newark->Singapore), but I can't seem to find any reward Krisflyer flights for <em>any</em> dates.  </p>\",\n",
       "    u'CommentCount': 1,\n",
       "    u'CreationDate': datetime.datetime(2011, 6, 21, 20, 24, 57, 160000),\n",
       "    u'Id': 4,\n",
       "    u'LastActivityDate': datetime.datetime(2013, 1, 9, 9, 55, 22, 743000),\n",
       "    u'LastEditDate': datetime.datetime(2013, 1, 9, 9, 55, 22, 743000),\n",
       "    u'LastEditorUserId': 693,\n",
       "    u'OwnerUserId': 24,\n",
       "    u'PostTypeId': 1,\n",
       "    u'Score': 8,\n",
       "    u'Tags': u'<loyalty-programs><routes><ewr><singapore-airlines><sin>',\n",
       "    u'Title': u'Does Singapore Airlines offer any reward seats on their EWR-SIN route?',\n",
       "    u'ViewCount': 209},\n",
       "   {u'CreationDate': datetime.datetime(2011, 6, 21, 0, 0),\n",
       "    u'Id': 27,\n",
       "    u'PostId': 4,\n",
       "    u'VoteTypeId': 2}))]"
      ]
     },
     "execution_count": 11,
     "metadata": {},
     "output_type": "execute_result"
    }
   ],
   "source": [
    "post_votes = posts\\\n",
    ".filter(lambda p: p['PostTypeId'] == 1)\\\n",
    ".filter(lambda p: (max_datetime - p['CreationDate']).days > 35)\\\n",
    ".keyBy(lambda p: p['Id'])\\\n",
    ".join(votes.keyBy(lambda v: v['PostId']))\n",
    "\n",
    "post_votes.take(1)"
   ]
  },
  {
   "cell_type": "code",
   "execution_count": 14,
   "metadata": {
    "collapsed": false,
    "scrolled": false
   },
   "outputs": [],
   "source": [
    "def make_vote_dist( (post_id, votes) ):\n",
    "    vote_types = {\n",
    "        1: 'AcceptedByOriginator',\n",
    "        2: 'UpMod',\n",
    "        3: 'DownMod',\n",
    "        4: 'Offensive',\n",
    "        5: 'Favorite',\n",
    "        6: 'Close',\n",
    "        7: 'Reopen',\n",
    "        8: 'BountyStart',\n",
    "        9: 'BountyClose',\n",
    "        10: 'Deletion',\n",
    "        11: 'Undeletion',\n",
    "        12: 'Spam',\n",
    "        15: 'ModeratorReview',\n",
    "        16: 'ApproveEditSuggestion'\n",
    "    }\n",
    "    X = Counter()\n",
    "    X.update([\n",
    "            vote_types[vote['VoteTypeId']]\n",
    "            for vote in votes if (vote['CreationDate'] - vote['PostCreationDate']).days <= LEARN_PERIOD\n",
    "        ])\n",
    "    \n",
    "    Y = Counter()\n",
    "    Y.update([\n",
    "            vote_types[vote['VoteTypeId']]\n",
    "            for vote in votes if ((vote['CreationDate'] - vote['PostCreationDate']).days > LEARN_PERIOD and\n",
    "                                  (vote['CreationDate'] - vote['PostCreationDate']).days <= LEARN_PERIOD + PREDICT_PERIOD)\n",
    "        ])\n",
    "    return {\n",
    "            'Id': post_id,\n",
    "            'X': X,\n",
    "            'Y': Y\n",
    "        }"
   ]
  },
  {
   "cell_type": "code",
   "execution_count": 15,
   "metadata": {
    "collapsed": false
   },
   "outputs": [
    {
     "data": {
      "text/plain": [
       "[{'Id': 4,\n",
       "  'X': Counter({'UpMod': 3, 'DownMod': 1}),\n",
       "  'Y': Counter({'UpMod': 1})},\n",
       " {'Id': 8,\n",
       "  'X': Counter({'UpMod': 2, 'DownMod': 1}),\n",
       "  'Y': Counter({'UpMod': 1})},\n",
       " {'Id': 6828, 'X': Counter({'UpMod': 8}), 'Y': Counter()},\n",
       " {'Id': 16,\n",
       "  'X': Counter({'UpMod': 12, 'Favorite': 3}),\n",
       "  'Y': Counter({'UpMod': 7, 'Favorite': 1})},\n",
       " {'Id': 9560, 'X': Counter({'UpMod': 3}), 'Y': Counter()}]"
      ]
     },
     "execution_count": 15,
     "metadata": {},
     "output_type": "execute_result"
    }
   ],
   "source": [
    "vote_distributions = post_votes\\\n",
    ".map(lambda (id, (post, vote)): (id, add_to_dict(vote, 'PostCreationDate', post['CreationDate'])))\\\n",
    ".groupByKey()\\\n",
    ".map(make_vote_dist)\n",
    "\n",
    "vote_distributions.take(5)"
   ]
  },
  {
   "cell_type": "code",
   "execution_count": 17,
   "metadata": {
    "collapsed": false,
    "scrolled": false
   },
   "outputs": [],
   "source": [
    "def features(vd):\n",
    "    result = dict(vd['X'])\n",
    "    result.update({ 'Y_' + k : v for k,v in vd['Y'].items() })\n",
    "    return result\n",
    "\n",
    "df = pd.DataFrame(vote_distributions.map(features).collect())"
   ]
  },
  {
   "cell_type": "code",
   "execution_count": 18,
   "metadata": {
    "collapsed": false
   },
   "outputs": [],
   "source": [
    "df['TotalMod'] = df.UpMod + df.DownMod\n",
    "df['DiffMod'] = df.UpMod - df.DownMod\n",
    "df['Y_TotalMod'] = df.Y_UpMod + df.Y_DownMod"
   ]
  },
  {
   "cell_type": "code",
   "execution_count": 29,
   "metadata": {
    "collapsed": false
   },
   "outputs": [
    {
     "data": {
      "text/plain": [
       "<matplotlib.axes._subplots.AxesSubplot at 0x1077769d0>"
      ]
     },
     "execution_count": 29,
     "metadata": {},
     "output_type": "execute_result"
    },
    {
     "data": {
      "image/png": "[encoded data removed]",
      "text/plain": [
       "<matplotlib.figure.Figure at 0x10782e490>"
      ]
     },
     "metadata": {},
     "output_type": "display_data"
    }
   ],
   "source": [
    "df.plot(kind='scatter', x='UpMod', y='Y_TotalMod')"
   ]
  },
  {
   "cell_type": "code",
   "execution_count": 30,
   "metadata": {
    "collapsed": false
   },
   "outputs": [
    {
     "data": {
      "text/plain": [
       "<matplotlib.axes._subplots.AxesSubplot at 0x10760a310>"
      ]
     },
     "execution_count": 30,
     "metadata": {},
     "output_type": "execute_result"
    },
    {
     "data": {
      "image/png": "[encoded data removed]",
      "text/plain": [
       "<matplotlib.figure.Figure at 0x10a6622d0>"
      ]
     },
     "metadata": {},
     "output_type": "display_data"
    }
   ],
   "source": [
    "df.plot(kind='scatter', x='TotalMod', y='Y_TotalMod')"
   ]
  },
  {
   "cell_type": "code",
   "execution_count": 31,
   "metadata": {
    "collapsed": false
   },
   "outputs": [
    {
     "data": {
      "text/plain": [
       "<matplotlib.axes._subplots.AxesSubplot at 0x10760a190>"
      ]
     },
     "execution_count": 31,
     "metadata": {},
     "output_type": "execute_result"
    },
    {
     "data": {
      "image/png": "[encoded data removed]",
      "text/plain": [
       "<matplotlib.figure.Figure at 0x108ef8550>"
      ]
     },
     "metadata": {},
     "output_type": "display_data"
    }
   ],
   "source": [
    "df.plot(kind='scatter', x='DiffMod', y='Y_TotalMod')"
   ]
  },
  {
   "cell_type": "code",
   "execution_count": 32,
   "metadata": {
    "collapsed": false
   },
   "outputs": [
    {
     "data": {
      "text/plain": [
       "<matplotlib.axes._subplots.AxesSubplot at 0x10c4d2e90>"
      ]
     },
     "execution_count": 32,
     "metadata": {},
     "output_type": "execute_result"
    },
    {
     "data": {
      "image/png": "[encoded data removed]",
      "text/plain": [
       "<matplotlib.figure.Figure at 0x108ef84d0>"
      ]
     },
     "metadata": {},
     "output_type": "display_data"
    }
   ],
   "source": [
    "sns.violinplot([\n",
    "        df[df.DownMod > 0].Y_UpMod.dropna(),\n",
    "        df[df.DownMod.isnull()].Y_UpMod.dropna()\n",
    "        ],\n",
    "        names=[\"down voted\", \"not down voted\"])"
   ]
  },
  {
   "cell_type": "code",
   "execution_count": 70,
   "metadata": {
    "collapsed": true
   },
   "outputs": [],
   "source": [
    "from pyspark.mllib.regression import LabeledPoint, LinearRegressionWithSGD\n",
    "from pyspark.mllib.classification import NaiveBayes"
   ]
  },
  {
   "cell_type": "code",
   "execution_count": 101,
   "metadata": {
    "collapsed": false
   },
   "outputs": [
    {
     "data": {
      "text/plain": [
       "([LabeledPoint(1.0, [2.0,1.0])], [LabeledPoint(1.0, [3.0,1.0])])"
      ]
     },
     "execution_count": 101,
     "metadata": {},
     "output_type": "execute_result"
    }
   ],
   "source": [
    "def labeled_point(vd):\n",
    "    return LabeledPoint(dict(vd['Y'])['UpMod'], [dict(vd['X'])['UpMod']])\n",
    "\n",
    "# create dataset\n",
    "labeled_points = vote_distributions\\\n",
    ".filter(lambda l: dict(l['X']).has_key('UpMod') and \\\n",
    "                  dict(l['Y']).has_key('UpMod'))\\\n",
    ".map(labeled_point)\n",
    "\n",
    "# split in train and test sets\n",
    "train_data, test_data = labeled_points.randomSplit([0.6, 0.4], seed = 0)\n",
    "train_data.take(1), test_data.take(1)"
   ]
  },
  {
   "cell_type": "code",
   "execution_count": 103,
   "metadata": {
    "collapsed": true
   },
   "outputs": [],
   "source": [
    "def linear_regression(train, test):\n",
    "    model = LinearRegressionWithSGD.train(train)\n",
    "    print model\n",
    "    valuesAndPreds = test.map(lambda p: (p.label, model.predict(p.features)))\n",
    "    MSE = valuesAndPreds.map(lambda (v, p): (v - p)**2).sum() / valuesAndPreds.count()\n",
    "    print 'Mean squared regression error:', MSE\n",
    "\n",
    "def naive_bayes_classification(train, test):\n",
    "    model = NaiveBayes.train(train, 0.0)\n",
    "    predictionAndLabel = test.map(lambda p : (model.predict(p.features), p.label))\n",
    "    accuracy = 1.0 * predictionAndLabel.filter(lambda (x, v): x == v).count() / test.count()\n",
    "    print 'Naive Bayes classification accuracy:', accuracy"
   ]
  },
  {
   "cell_type": "code",
   "execution_count": 104,
   "metadata": {
    "collapsed": false
   },
   "outputs": [
    {
     "name": "stdout",
     "output_type": "stream",
     "text": [
      "(weights=[-3.8534465835e+131,-3.28967610278e+130], intercept=0.0)\n",
      "Mean squared regression error: 4.04152074028e+265\n"
     ]
    }
   ],
   "source": [
    "linear_regression(train_data, test_data)"
   ]
  },
  {
   "cell_type": "code",
   "execution_count": 105,
   "metadata": {
    "collapsed": false
   },
   "outputs": [
    {
     "name": "stdout",
     "output_type": "stream",
     "text": [
      "Naive Bayes classification accuracy: 0.701754385965\n"
     ]
    }
   ],
   "source": [
    "naive_bayes_classification(train_data, test_data)"
   ]
  },
  {
   "cell_type": "code",
   "execution_count": 106,
   "metadata": {
    "collapsed": false
   },
   "outputs": [
    {
     "data": {
      "text/plain": [
       "0.7017543859649122"
      ]
     },
     "execution_count": 106,
     "metadata": {},
     "output_type": "execute_result"
    }
   ],
   "source": [
    "float(test_data.filter(lambda p: p.label==1.0).count())/test_data.count()"
   ]
  },
  {
   "cell_type": "code",
   "execution_count": null,
   "metadata": {
    "collapsed": true
   },
   "outputs": [],
   "source": []
  }
 ],
 "metadata": {
  "kernelspec": {
   "display_name": "Python 2",
   "language": "python",
   "name": "python2"
  },
  "language_info": {
   "codemirror_mode": {
    "name": "ipython",
    "version": 2
   },
   "file_extension": ".py",
   "mimetype": "text/x-python",
   "name": "python",
   "nbconvert_exporter": "python",
   "pygments_lexer": "ipython2",
   "version": "2.7.8"
  }
 },
 "nbformat": 4,
 "nbformat_minor": 0
}
